{
 "cells": [
  {
   "cell_type": "markdown",
   "id": "6f988711",
   "metadata": {},
   "source": [
    "### RAG Pipelines- Data Ingestion to Vector DB Pipeline"
   ]
  },
  {
   "cell_type": "code",
   "execution_count": 4,
   "id": "dfc9b2eb",
   "metadata": {},
   "outputs": [],
   "source": [
    "import os\n",
    "from pathlib import Path\n",
    "from langchain_community.document_loaders import PyPDFLoader, PyMuPDFLoader\n",
    "from langchain_text_splitters import RecursiveCharacterTextSplitter"
   ]
  },
  {
   "cell_type": "code",
   "execution_count": 5,
   "id": "0c378c9b",
   "metadata": {},
   "outputs": [
    {
     "name": "stdout",
     "output_type": "stream",
     "text": [
      "Found 1 PDF files to Process\n",
      "\n",
      "Processing : Digital Electronics Manual@StudentCopy.pdf\n",
      " Loaded 64 Pages\n",
      "\n",
      "Total Documents Loaded: 64\n"
     ]
    }
   ],
   "source": [
    "def process_all_pdfs(pdf_dir):\n",
    "\n",
    "    all_documents = []\n",
    "    pdf_dir = Path(pdf_dir)\n",
    "    pdf_files = list(pdf_dir.glob(\"**/*.pdf\"))\n",
    "\n",
    "    print(f\"Found {len(pdf_files)} PDF files to Process\")\n",
    "\n",
    "    for pdf_file in pdf_files:\n",
    "        print(f\"\\nProcessing : {pdf_file.name}\")\n",
    "        try:\n",
    "            loader = PyPDFLoader(str(pdf_file))\n",
    "            documents = loader.load()\n",
    "\n",
    "            for doc in documents:\n",
    "                doc.metadata['source_file'] = pdf_file.name\n",
    "                doc.metadata['file_type'] = 'pdf'\n",
    "\n",
    "            all_documents.extend(documents)\n",
    "            print(f\" Loaded {len(documents)} Pages\")\n",
    "\n",
    "        except Exception as e:\n",
    "            print(f\" Error: {e}\")\n",
    "\n",
    "    print(f\"\\nTotal Documents Loaded: {len(all_documents)}\")\n",
    "    return all_documents\n",
    "\n",
    "all_pdf_documents = process_all_pdfs(\"../data/Pdf\")\n"
   ]
  },
  {
   "cell_type": "code",
   "execution_count": 6,
   "id": "250a03a4",
   "metadata": {},
   "outputs": [],
   "source": [
    "def split_documents(documents, chunk_size=1000, chunk_overlap=200):\n",
    "    text_splitter = RecursiveCharacterTextSplitter(\n",
    "        chunk_size=chunk_size,\n",
    "        chunk_overlap=chunk_overlap,\n",
    "        length_function=len,\n",
    "        separators=[\"\\n\\n\",\"\\n\",\" \", \"\"]\n",
    "    )\n",
    "    split_doc = text_splitter.split_documents(documents)\n",
    "    print(f\"Split {len(documents)} documents into {len(split_doc)} chunks\")\n",
    "\n",
    "    if split_doc:\n",
    "        print(f\"\\nExample Chunk:\")\n",
    "        print(f\"Content: {split_doc[0].page_content[:200]}...\")\n",
    "        print(f\"Metadata: {split_doc[0].metadata}\")\n",
    "\n",
    "    return split_doc"
   ]
  },
  {
   "cell_type": "code",
   "execution_count": 7,
   "id": "6ba997d4",
   "metadata": {},
   "outputs": [
    {
     "name": "stdout",
     "output_type": "stream",
     "text": [
      "Split 64 documents into 75 chunks\n",
      "\n",
      "Example Chunk:\n",
      "Content: Dept. of Electronics & Communication \n",
      "Engineering \n",
      "   \n",
      " \n",
      " \n",
      "DIGITAL ELECTRONICS \n",
      "LABORATORY FILE \n",
      " \n",
      "NAME: \n",
      "ID: \n",
      " \n",
      " \n",
      " \n",
      " \n",
      " \n",
      " \n",
      " \n",
      " \n",
      " \n",
      " \n",
      " \n",
      " \n",
      " \n",
      " \n",
      " \n",
      " \n",
      " \n",
      " \n",
      "DEPARTMENT OF ELECTRONICS & COMMUNICATION ENGINEERING...\n",
      "Metadata: {'producer': 'iLovePDF', 'creator': 'PyPDF', 'creationdate': '', 'moddate': '2023-04-04T09:30:38+00:00', 'source': '..\\\\data\\\\Pdf\\\\Digital Electronics Manual@StudentCopy.pdf', 'total_pages': 64, 'page': 0, 'page_label': '1', 'source_file': 'Digital Electronics Manual@StudentCopy.pdf', 'file_type': 'pdf'}\n"
     ]
    }
   ],
   "source": [
    "chunks = split_documents(all_pdf_documents)"
   ]
  },
  {
   "cell_type": "markdown",
   "id": "7d20637b",
   "metadata": {},
   "source": [
    "### Embedding And Vector Store DB"
   ]
  },
  {
   "cell_type": "code",
   "execution_count": 8,
   "id": "756bb82a",
   "metadata": {},
   "outputs": [],
   "source": [
    "import numpy\n",
    "from sentence_transformers import SentenceTransformer\n",
    "import chromadb\n",
    "from chromadb.config import Settings\n",
    "import uuid\n",
    "from typing import List, Dict, Any, Tuple\n",
    "from sklearn.metrics.pairwise import cosine_similarity"
   ]
  },
  {
   "cell_type": "code",
   "execution_count": 9,
   "id": "da022881",
   "metadata": {},
   "outputs": [
    {
     "name": "stdout",
     "output_type": "stream",
     "text": [
      "Loading embedding Model: all-MiniLM-L6-v2\n",
      "Model Loaded Sucessfully. embedding Dimension: 384\n"
     ]
    },
    {
     "data": {
      "text/plain": [
       "<__main__.EmbeddingManager at 0x20fd7d87a10>"
      ]
     },
     "execution_count": 9,
     "metadata": {},
     "output_type": "execute_result"
    }
   ],
   "source": [
    "class EmbeddingManager:\n",
    "    def __init__(self, model_name: str = \"all-MiniLM-L6-v2\"):\n",
    "\n",
    "        \"\"\"\n",
    "        model_name : HuggingFace model name for sentence embeddings\n",
    "        \"\"\"\n",
    "        self.model_name = model_name\n",
    "        self.model = None\n",
    "        self._load_model()\n",
    "\n",
    "    def _load_model(self):\n",
    "        try:\n",
    "            print(f\"Loading embedding Model: {self.model_name}\")\n",
    "            self.model = SentenceTransformer(self.model_name)\n",
    "            print(f\"Model Loaded Sucessfully. embedding Dimension: {self.model.get_sentence_embedding_dimension()}\")\n",
    "        except Exception as e:\n",
    "            print(f\"Error Loading Model {self.model_name}: {e}\")\n",
    "            raise\n",
    "\n",
    "    def generate_embeddings(self, texts: List[str]) -> numpy.ndarray:\n",
    "        if not self.model:\n",
    "            raise ValueError(\"Model not Loaded\")\n",
    "        \n",
    "        print(f\"Generating Embeddings for {len(texts)} texts...\")\n",
    "        embeddings = self.model.encode(texts, show_progress_bar=True)\n",
    "        print(f\"Generating Embeddings with Shape: {embeddings.shape}\")\n",
    "        return embeddings\n",
    "    \n",
    "embedding_manager = EmbeddingManager()\n",
    "embedding_manager\n",
    "    "
   ]
  },
  {
   "cell_type": "markdown",
   "id": "981d336b",
   "metadata": {},
   "source": [
    "### Vector Store"
   ]
  },
  {
   "cell_type": "code",
   "execution_count": 10,
   "id": "ff474416",
   "metadata": {},
   "outputs": [
    {
     "name": "stdout",
     "output_type": "stream",
     "text": [
      "Vector Store Initialized. Collection: pdf_documents\n",
      "Existing Documents in Collection: 75\n"
     ]
    },
    {
     "data": {
      "text/plain": [
       "<__main__.VectorStore at 0x20ff6317cb0>"
      ]
     },
     "execution_count": 10,
     "metadata": {},
     "output_type": "execute_result"
    }
   ],
   "source": [
    "class VectorStore:\n",
    "\n",
    "    def __init__(self, collection_name: str = \"pdf_documents\", persist_directory: str = \"../data/vector_store\"):\n",
    "        \n",
    "        self.collection_name = collection_name\n",
    "        self.persist_directory = persist_directory\n",
    "        self.client = None\n",
    "        self.collection = None\n",
    "        self._initialize_store()\n",
    "\n",
    "    def _initialize_store(self):\n",
    "        try:\n",
    "\n",
    "            # Create Persistent ChromaDB Client\n",
    "            os.makedirs(self.persist_directory, exist_ok=True)\n",
    "            self.client = chromadb.PersistentClient(path=self.persist_directory)\n",
    "\n",
    "            # Get or Create Collection\n",
    "            self.collection = self.client.get_or_create_collection(\n",
    "                name=self.collection_name,\n",
    "                metadata={\"description\": \"PDF Document Embeddings for RAG\"}\n",
    "            )\n",
    "            print(f\"Vector Store Initialized. Collection: {self.collection_name}\")\n",
    "            print(f\"Existing Documents in Collection: {self.collection.count()}\")\n",
    "\n",
    "        except Exception as e:\n",
    "            print(f\"Error Initializing Vector Store: {e}\")\n",
    "            raise\n",
    "\n",
    "    def add_documents(self, documents: List[Any], embeddings: numpy.ndarray):\n",
    "\n",
    "        if len(documents) != len(embeddings):\n",
    "            raise ValueError(\"No. of Documents must match no. embeddings\")\n",
    "        \n",
    "        print(f\"Adding {len(documents)} documents to Vectore Store...\")\n",
    "\n",
    "        ids = []\n",
    "        metadatas = []\n",
    "        documents_text = []\n",
    "        embeddings_list = []\n",
    "\n",
    "        for i, (doc, embedding) in enumerate(zip(documents, embeddings)):\n",
    "\n",
    "            # Generate ID\n",
    "            doc_id = f\"doc_{uuid.uuid4().hex[:8]}_{i}\"\n",
    "            ids.append(doc_id)\n",
    "\n",
    "            # Prepare Metadata\n",
    "            metadata = dict(doc.metadata)\n",
    "            metadata['doc_index'] = i\n",
    "            metadata['content_length'] = len(doc.page_content)\n",
    "            metadatas.append(metadata)\n",
    "\n",
    "            # Document Content\n",
    "            documents_text.append(doc.page_content)\n",
    "\n",
    "            # Embedding\n",
    "            embeddings_list.append(embedding.tolist())\n",
    "\n",
    "        try:\n",
    "            self.collection.add(\n",
    "                ids=ids,\n",
    "                embeddings=embeddings_list,\n",
    "                metadatas=metadatas,\n",
    "                documents=documents_text\n",
    "            )\n",
    "            print(f\"Sucessfully added {len(documents)} documents to Vector Store\")\n",
    "            print(f\"Total Documents in Collection: {self.collection.count()}\")\n",
    "        \n",
    "        except Exception as e:\n",
    "            print(f\"Error adding documents to Vector Store: {e}\")\n",
    "            raise\n",
    "\n",
    "vector_store = VectorStore()\n",
    "vector_store\n"
   ]
  },
  {
   "cell_type": "code",
   "execution_count": 11,
   "id": "ffa88b0d",
   "metadata": {},
   "outputs": [
    {
     "data": {
      "text/plain": [
       "[Document(metadata={'producer': 'iLovePDF', 'creator': 'PyPDF', 'creationdate': '', 'moddate': '2023-04-04T09:30:38+00:00', 'source': '..\\\\data\\\\Pdf\\\\Digital Electronics Manual@StudentCopy.pdf', 'total_pages': 64, 'page': 0, 'page_label': '1', 'source_file': 'Digital Electronics Manual@StudentCopy.pdf', 'file_type': 'pdf'}, page_content='Dept. of Electronics & Communication \\nEngineering \\n   \\n \\n \\nDIGITAL ELECTRONICS \\nLABORATORY FILE \\n \\nNAME: \\nID: \\n \\n \\n \\n \\n \\n \\n \\n \\n \\n \\n \\n \\n \\n \\n \\n \\n \\n \\nDEPARTMENT OF ELECTRONICS & COMMUNICATION ENGINEERING'),\n",
       " Document(metadata={'producer': 'iLovePDF', 'creator': 'PyPDF', 'creationdate': '', 'moddate': '2023-04-04T09:30:38+00:00', 'source': '..\\\\data\\\\Pdf\\\\Digital Electronics Manual@StudentCopy.pdf', 'total_pages': 64, 'page': 1, 'page_label': '2', 'source_file': 'Digital Electronics Manual@StudentCopy.pdf', 'file_type': 'pdf'}, page_content='Dept. of Electronics & Communication \\nEngineering \\n \\n \\n \\n \\nNAME (IN CAPITAL):______________________________________________________ \\nDEPARTMENT: ___________________________________________________________ \\nID: ____________________ YEAR: ________________ SEMESTER: _______________ \\nSUBJECT NAME: __________________________________________________________ \\nSUBJECT CODE: __________________________________________________________ \\n \\nINDEX \\nEXP. \\nNO. EXPERIMENT NAME DATE OF \\nEXP. \\nDATE OF \\nSUBMISSION \\nSIGNATURE \\n(WITH DATE) REMARKS \\n      \\n      \\n      \\n      \\n      \\n      \\n      \\n      \\n      \\n      \\n      \\n      \\n      \\n      \\n      \\n \\n________________________________  \\n                                                                                      FINAL SIGNATURE OF TEACHER WITH REMARKS'),\n",
       " Document(metadata={'producer': 'iLovePDF', 'creator': 'PyPDF', 'creationdate': '', 'moddate': '2023-04-04T09:30:38+00:00', 'source': '..\\\\data\\\\Pdf\\\\Digital Electronics Manual@StudentCopy.pdf', 'total_pages': 64, 'page': 2, 'page_label': '3', 'source_file': 'Digital Electronics Manual@StudentCopy.pdf', 'file_type': 'pdf'}, page_content='Dept. of Electronics & Communication \\nEngineering \\n \\n \\n \\n                                                                                    \\nEXPERIMENT NO.:        _______ \\nEXPERIMENT NAME:  ___________________________________________________________ \\n___________________________________________________________ \\n___________________________________________________________ \\nNAME (IN CAPITAL):______________________________________________________ \\nID: ____________________ YEAR: ________________ SEMESTER: _______________ \\n \\nSL. NO. GROUP MEMBER’S NAME (IN CAPITAL) ID \\n1.   \\n2.   \\n3.   \\n4.   \\n5.   \\n \\n \\n \\nDATE OF EXPERIMENT: __________________    DATE OF SUBMISSION: __________________  \\n \\n \\n \\n \\n \\n \\n \\n________________________________  \\n                                                                                                                 SIGNATURE OF TEACHER'),\n",
       " Document(metadata={'producer': 'iLovePDF', 'creator': 'PyPDF', 'creationdate': '', 'moddate': '2023-04-04T09:30:38+00:00', 'source': '..\\\\data\\\\Pdf\\\\Digital Electronics Manual@StudentCopy.pdf', 'total_pages': 64, 'page': 3, 'page_label': '4', 'source_file': 'Digital Electronics Manual@StudentCopy.pdf', 'file_type': 'pdf'}, page_content='Dept. of Electronics & Communication \\nEngineering \\n \\n \\n \\n \\n \\nEXPERIMENT NO.1 \\n \\nNAME OF THE EXPERIMENT:   Familiarization with logic gates such as \\nBasic, Universal and Exclusive Gates. \\nAIM & OBJECTIVE:  To Verify The Truth Tables of Basic Gates (NOT, AND, \\nOR) & Universal Gates (NAND, NOR) & Exclusive Gates (XOR). \\nApparatus/ Components required:  Digital trainer kit, IC- 7404, 7408, 7432, \\n7400, 7402, 7486 and connecting wires. \\nTHEORY: \\nI. THE INVERTER /NOT GATE (IC- 7404): \\nThe Inverter or the NOT gate performs the logic function of \\ninversion/complementation. It changes  one logic level to opposite logic level, in \\nterms of bits, it changes 1 to 0 and 0 to 1. \\nLOGIC- Y= Ā, when Y is the output and A is the input. \\nLOGIC SYMBOL: \\n \\nPIN DIAGRAM: \\n \\nIC 7404'),\n",
       " Document(metadata={'producer': 'iLovePDF', 'creator': 'PyPDF', 'creationdate': '', 'moddate': '2023-04-04T09:30:38+00:00', 'source': '..\\\\data\\\\Pdf\\\\Digital Electronics Manual@StudentCopy.pdf', 'total_pages': 64, 'page': 4, 'page_label': '5', 'source_file': 'Digital Electronics Manual@StudentCopy.pdf', 'file_type': 'pdf'}, page_content='Dept. of Electronics & Communication \\nEngineering \\n \\n \\n \\n \\n \\n  CIRCUIT CONNECTION: \\n \\nConnect Pin 14 to VCC = +5V, pin 7 to Ground. Inputs should be feed to pins \\n1, 3, 5, 9, 11 & 13 and outputs should be obtained from 2, 4, 6, 8, 10 & 12 \\nrespectively. \\n \\nTRUTH TABLE: \\n \\n \\n \\n \\n \\nII. AND GATE (IC-7408): \\nThe AND gate performs logical multiplication, more commonly known as AND \\noperation. It is composed of two or more inputs and a single output. \\nLOGIC- Y= A.B where Y is the output and A and B are the inputs (for two input \\nAND gate). \\nLOGIC SYMBOL: \\n \\nPIN DIAGRAM: \\n IC 7408 \\nInput \\nA \\nOutput \\nY \\n0 1 \\n1 0'),\n",
       " Document(metadata={'producer': 'iLovePDF', 'creator': 'PyPDF', 'creationdate': '', 'moddate': '2023-04-04T09:30:38+00:00', 'source': '..\\\\data\\\\Pdf\\\\Digital Electronics Manual@StudentCopy.pdf', 'total_pages': 64, 'page': 5, 'page_label': '6', 'source_file': 'Digital Electronics Manual@StudentCopy.pdf', 'file_type': 'pdf'}, page_content='Dept. of Electronics & Communication \\nEngineering \\n \\n \\n \\n \\n \\nCIRCUIT CONNECTION: \\n \\nConnect Pin 14 to VCC = +5V, pin 7 to Ground. Inputs should be feed to \\npins (1 & 2) or (4 & 5) or (10 & 9) or (12  & 13) and Outputs should be  \\nobtained from 3, 6, 8 & 11 correspondingly. \\n \\nTRUTH TABLE: \\n \\n \\n \\n \\n \\nIII. OR GATE (IC-7432): \\nThe OR gate performs logical addition, more commonly known as OR operation \\nin digital electronics. It is composed of two or more inputs and a single output. \\nLOGIC- Y= A + B where  Y is the output and A and B are the inputs (for two \\ninput OR gate). \\nLOGIC SYMBOL: \\n \\nPIN DIAGRAM: \\nIC 7432 \\nInputs Output \\nA B Y \\n0 0 0 \\n0 1 0 \\n1 0 0 \\n1 1 1'),\n",
       " Document(metadata={'producer': 'iLovePDF', 'creator': 'PyPDF', 'creationdate': '', 'moddate': '2023-04-04T09:30:38+00:00', 'source': '..\\\\data\\\\Pdf\\\\Digital Electronics Manual@StudentCopy.pdf', 'total_pages': 64, 'page': 6, 'page_label': '7', 'source_file': 'Digital Electronics Manual@StudentCopy.pdf', 'file_type': 'pdf'}, page_content='Dept. of Electronics & Communication \\nEngineering \\n \\n \\n \\n \\n \\nCIRCUIT CONNECTION: \\n \\nConnect Pin 14 to VCC = +5V, pin 7 to Ground. Inputs should be feed to \\npins (1 & 2) or (4 & 5) or (10 & 9) or (12  & 13) and Outputs should be  \\nobtained from 3, 6, 8 & 11 correspondingly. \\n \\nTRUTH TABLE: \\n \\nInputs Output \\nA B Y \\n0 0 0 \\n0 1 1 \\n1 0 1 \\n1 1 1 \\n \\nIV. NAND GATE (IC-7400): \\nThe term NAND is a contraction of NOT-AND and implies an AND function \\nwith a complemented (inverted) output. The NAND gate is a very popular logic \\nfunction because it is \"Universal\" function; that is it can be used to construct an \\nAND gate, OR gate and NOT gate or a combination of these gates. \\nLOGIC- Y= A.B where Y is the output and A and B are the inputs (for two input \\nNAND gate). \\nLOGIC SYMBOL: \\n \\nPIN DIAGRAM: \\nIC 7400'),\n",
       " Document(metadata={'producer': 'iLovePDF', 'creator': 'PyPDF', 'creationdate': '', 'moddate': '2023-04-04T09:30:38+00:00', 'source': '..\\\\data\\\\Pdf\\\\Digital Electronics Manual@StudentCopy.pdf', 'total_pages': 64, 'page': 7, 'page_label': '8', 'source_file': 'Digital Electronics Manual@StudentCopy.pdf', 'file_type': 'pdf'}, page_content='Dept. of Electronics & Communication \\nEngineering \\n \\n \\n \\n \\n \\nCIRCUIT CONNECTION: \\n \\nConnect Pin 14 to VCC = +5V, pin 7 to Ground. Inputs should be feed to pins (1 \\n& 2) or (4 & 5) or (10 & 9) or (12 & 13) and Outputs should be obtained from 3, \\n6, 8 & 11 correspondingly. \\nTRUTH TABLE: \\n \\n \\n \\n \\n \\nV. NOR GATE (IC-7402): \\nThe term NOR is a contraction of NOT-OR and implies an OR function with a \\ncomplemented (inverted) output. The NOR gate is a very popular logic function \\nbecause it is \"Universal\" function like NAND; that is it can be used to construct \\nan AND gate, OR gate and NOT gate or a combination of these gates. \\nLOGIC- Y= A + B, where Y is the output and A and B are the inputs (for two \\ninput NOR gate). \\nLOGIC SYMBOL: \\nPIN DIAGRAM: \\nInputs Output \\nA B Y \\n0 0 1 \\n0 1 1 \\n1 0 1 \\n1 1 0'),\n",
       " Document(metadata={'producer': 'iLovePDF', 'creator': 'PyPDF', 'creationdate': '', 'moddate': '2023-04-04T09:30:38+00:00', 'source': '..\\\\data\\\\Pdf\\\\Digital Electronics Manual@StudentCopy.pdf', 'total_pages': 64, 'page': 8, 'page_label': '9', 'source_file': 'Digital Electronics Manual@StudentCopy.pdf', 'file_type': 'pdf'}, page_content='Dept. of Electronics & Communication \\nEngineering \\n \\n \\n \\n \\n \\nCIRCUIT CONNECTION: \\n \\nConnect Pin 14 to VCC = +5V, pin 7 to Ground. Inputs should be feed to \\npins (2 & 3) or (5 & 6) or (8 & 9) or  (12 & 11) and Outputs should be  \\nobtained from 1, 4, 10 & 13 correspondingly. \\n \\nTRUTH TABLE: \\nInputs Output \\nA B Y \\n0 0 1 \\n0 1 0 \\n1 0 0 \\n1 1 0 \\n \\nVI. XOR GATE (IC-7486): \\nThe XOR gates give a HIGH output when the inputs are at opposite logic levels. \\nThis is a widely  used gate because of its special arithmetic property. \\nLOGIC-   𝒀 = 𝑨̅𝑩+𝑨𝑩̅= 𝐀 ⊕ B   where Y is the output and A, B is the inputs \\nof  XOR gate. \\nLOGIC SYMBOL: \\n \\nPIN DIAGRAM:'),\n",
       " Document(metadata={'producer': 'iLovePDF', 'creator': 'PyPDF', 'creationdate': '', 'moddate': '2023-04-04T09:30:38+00:00', 'source': '..\\\\data\\\\Pdf\\\\Digital Electronics Manual@StudentCopy.pdf', 'total_pages': 64, 'page': 9, 'page_label': '10', 'source_file': 'Digital Electronics Manual@StudentCopy.pdf', 'file_type': 'pdf'}, page_content='Dept. of Electronics & Communication \\nEngineering \\n \\n \\n \\n \\n \\nCIRCUIT CONNECTION: \\n \\nConnect Pin 14 to VCC = +5V, pin 7 to Ground. Inputs should be feed to pins (1 \\n& 2) or (4 & 5) or (10 & 9) or (12 & 13) and Outputs should be obtained from 3, \\n6, 8 & 11 correspondingly. \\nTRUTH TABLE: \\nInputs Output \\nA B Y \\n0 0 0 \\n0 1 1 \\n1 0 1 \\n1 1 0'),\n",
       " Document(metadata={'producer': 'iLovePDF', 'creator': 'PyPDF', 'creationdate': '', 'moddate': '2023-04-04T09:30:38+00:00', 'source': '..\\\\data\\\\Pdf\\\\Digital Electronics Manual@StudentCopy.pdf', 'total_pages': 64, 'page': 10, 'page_label': '11', 'source_file': 'Digital Electronics Manual@StudentCopy.pdf', 'file_type': 'pdf'}, page_content='Dept. of Electronics & Communication \\nEngineering \\n \\n \\n \\n \\n \\nEXERCISES: \\nDraw the Circuit Diagram using any Basic, Universal and Exclusive gates and \\nwrite down the truth table and verify the truth table in the Digital Trainer Kit. \\n1. W = A̅  + B̅  + AB \\n2. X = A̅ B + AB̅  + AB \\n3. Y = AB̅  + 𝐴𝐵̅̅̅̅ \\n4. Z = (𝐴+𝐵̅̅̅̅̅̅̅̅).C + 𝐴𝐵̅̅̅̅ \\n \\nCONCLUSION:'),\n",
       " Document(metadata={'producer': 'iLovePDF', 'creator': 'PyPDF', 'creationdate': '', 'moddate': '2023-04-04T09:30:38+00:00', 'source': '..\\\\data\\\\Pdf\\\\Digital Electronics Manual@StudentCopy.pdf', 'total_pages': 64, 'page': 11, 'page_label': '12', 'source_file': 'Digital Electronics Manual@StudentCopy.pdf', 'file_type': 'pdf'}, page_content='Dept. of Electronics & Communication \\nEngineering \\n \\n \\n \\n                                                                                    \\nEXPERIMENT NO.:        _______ \\nEXPERIMENT NAME:  ___________________________________________________________ \\n___________________________________________________________ \\n___________________________________________________________ \\nNAME (IN CAPITAL):______________________________________________________ \\nID: ____________________ YEAR: ________________ SEMESTER: _______________ \\n \\nSL. NO. GROUP MEMBER’S NAME (IN CAPITAL) ID \\n1.   \\n2.   \\n3.   \\n4.   \\n5.   \\n \\n \\n \\nDATE OF EXPERIMENT: __________________    DATE OF SUBMISSION: __________________  \\n \\n \\n \\n \\n \\n \\n \\n________________________________  \\n                                                                                                                 SIGNATURE OF TEACHER'),\n",
       " Document(metadata={'producer': 'iLovePDF', 'creator': 'PyPDF', 'creationdate': '', 'moddate': '2023-04-04T09:30:38+00:00', 'source': '..\\\\data\\\\Pdf\\\\Digital Electronics Manual@StudentCopy.pdf', 'total_pages': 64, 'page': 12, 'page_label': '13', 'source_file': 'Digital Electronics Manual@StudentCopy.pdf', 'file_type': 'pdf'}, page_content='Dept. of Electronics & Communication \\nEngineering \\n \\n \\n  \\n \\n \\nEXPERIMENT NO.2 \\n \\nNAME OF THE EXPERIMENT:  Realization of basic logic gates and exclusive \\ngates using Universal gates. \\nAIM & OBJECTIVE:   To Verify the Truth Tables of Basic Gates (NOT, AND, \\nOR) & Exclusive Gates (XOR, XNOR) using NAND and NOR gates. \\nApparatus/ Components required:  Digital trainer kit, IC- 7400, 7402 and \\nconnecting wires. \\nTHEORY: \\nThe NAND and the NOR gates can be used to produce any logic function, that is \\nwhy they are referred as \"universal gates\". \\nAll Boolean expressions consists of various combination of basic function like NOT, \\nAND & OR, however rather than using separate gates, all operation can be executed \\nusing only NAND or NOR gate. \\nPIN DIAGRAM: \\n                             \\n                            IC 7400                                                         IC 7402'),\n",
       " Document(metadata={'producer': 'iLovePDF', 'creator': 'PyPDF', 'creationdate': '', 'moddate': '2023-04-04T09:30:38+00:00', 'source': '..\\\\data\\\\Pdf\\\\Digital Electronics Manual@StudentCopy.pdf', 'total_pages': 64, 'page': 13, 'page_label': '14', 'source_file': 'Digital Electronics Manual@StudentCopy.pdf', 'file_type': 'pdf'}, page_content='Dept. of Electronics & Communication \\nEngineering \\n \\n \\n  \\n \\n \\nLOGIC DIAGRAMS: \\nUse of NAND Gate: \\ni) NOT using NAND: \\nAll NAND input pins connect to the input signal A gives an output A. \\n \\nTRUTH TABLE: \\nInput \\nA \\nOutput \\nY \\n0 1 \\n1 0 \\n \\nii) AND using NAND: \\nAn AND gate can be replaced by NAND gates as shown in the figure (The \\nAND is replaced by a NAND gate with its output complemented by a \\nNAND gate inverter).  \\n \\n \\nTRUTH TABLE: \\n \\n \\n \\n \\n \\n \\nInputs Output \\nA B Y \\n0 0 0 \\n0 1 0 \\n1 0 0 \\n1 1 1'),\n",
       " Document(metadata={'producer': 'iLovePDF', 'creator': 'PyPDF', 'creationdate': '', 'moddate': '2023-04-04T09:30:38+00:00', 'source': '..\\\\data\\\\Pdf\\\\Digital Electronics Manual@StudentCopy.pdf', 'total_pages': 64, 'page': 14, 'page_label': '15', 'source_file': 'Digital Electronics Manual@StudentCopy.pdf', 'file_type': 'pdf'}, page_content='Dept. of Electronics & Communication \\nEngineering \\n \\n \\n  \\n \\n \\niii) OR using NAND: \\nAn OR gate can be replaced by NAND gates as show n in the figure (The \\nOR gate is replaced by a NAND gate with all its inputs complemented by \\nNAND gate inverters). \\n \\n \\nTRUTH TABLE: \\nInputs Output \\nA B Y \\n0 0 0 \\n0 1 1 \\n1 0 1 \\n1 1 1 \\n \\niv) XOR using NAND: \\n \\nTRUTH TABLE: \\nInputs Output \\nA B Y \\n0 0 0 \\n0 1 1 \\n1 0 1 \\n1 1 0'),\n",
       " Document(metadata={'producer': 'iLovePDF', 'creator': 'PyPDF', 'creationdate': '', 'moddate': '2023-04-04T09:30:38+00:00', 'source': '..\\\\data\\\\Pdf\\\\Digital Electronics Manual@StudentCopy.pdf', 'total_pages': 64, 'page': 15, 'page_label': '16', 'source_file': 'Digital Electronics Manual@StudentCopy.pdf', 'file_type': 'pdf'}, page_content='Dept. of Electronics & Communication \\nEngineering \\n \\n \\n  \\n \\n \\nv) XNOR using NAND: \\n \\nTRUTH TABLE: \\nInputs Output \\nA B Y \\n0 0 1 \\n0 1 0 \\n1 0 0 \\n1 1 1 \\n \\nUse of NOR Gate: \\ni) NOT using NOR: \\nAll NOR input pins connect to the input signal A gives an output A. \\n \\nTRUTH TABLE: \\n \\nInput \\nA \\nOutput \\nY \\n0 1 \\n1 0'),\n",
       " Document(metadata={'producer': 'iLovePDF', 'creator': 'PyPDF', 'creationdate': '', 'moddate': '2023-04-04T09:30:38+00:00', 'source': '..\\\\data\\\\Pdf\\\\Digital Electronics Manual@StudentCopy.pdf', 'total_pages': 64, 'page': 16, 'page_label': '17', 'source_file': 'Digital Electronics Manual@StudentCopy.pdf', 'file_type': 'pdf'}, page_content='Dept. of Electronics & Communication \\nEngineering \\n \\n \\n  \\n \\n \\nii) AND using NOR: \\nAn AND gate can be replaced by NOR gates as shown in the figure (The \\nAND gate is replaced by a NOR gate with all its inputs complemented by \\nNOR gate inverters). \\n \\nTRUTH TABLE: \\n \\n \\n \\n \\niii) OR using NOR: \\nAn OR gate can be replaced by NOR gates as shown in the figure (The OR \\nis replaced by a NOR gate with its output complemented by a NOR gate \\ninverter). \\n \\nTRUTH TABLE: \\n \\nInputs Output \\nA B Y \\n0 0 0 \\n0 1 1 \\n1 0 1 \\n1 1 1 \\n \\nInputs Output \\nA B Y \\n0 0 0 \\n0 1 0 \\n1 0 0 \\n1 1 1'),\n",
       " Document(metadata={'producer': 'iLovePDF', 'creator': 'PyPDF', 'creationdate': '', 'moddate': '2023-04-04T09:30:38+00:00', 'source': '..\\\\data\\\\Pdf\\\\Digital Electronics Manual@StudentCopy.pdf', 'total_pages': 64, 'page': 17, 'page_label': '18', 'source_file': 'Digital Electronics Manual@StudentCopy.pdf', 'file_type': 'pdf'}, page_content='Dept. of Electronics & Communication \\nEngineering \\n \\n \\n  \\n \\n \\niv) XOR using NOR: \\n \\n \\n \\n \\n \\nTRUTH TABLE: \\nInputs Output \\nA B Y \\n0 0 0 \\n0 1 1 \\n1 0 1 \\n1 1 0 \\n \\nv) XNOR using NOR: \\n \\nTRUTH TABLE: \\nInputs Output \\nA B Y \\n0 0 1 \\n0 1 0 \\n1 0 0 \\n1 1 1 \\n \\nY'),\n",
       " Document(metadata={'producer': 'iLovePDF', 'creator': 'PyPDF', 'creationdate': '', 'moddate': '2023-04-04T09:30:38+00:00', 'source': '..\\\\data\\\\Pdf\\\\Digital Electronics Manual@StudentCopy.pdf', 'total_pages': 64, 'page': 18, 'page_label': '19', 'source_file': 'Digital Electronics Manual@StudentCopy.pdf', 'file_type': 'pdf'}, page_content='Dept. of Electronics & Communication \\nEngineering \\n \\n \\n  \\n \\n \\nEXERCISES: \\n1. Simplify the  ∑ (1,3,4,6,9,11,12,14) 𝑚  and implement this using NAND gate \\nonly. \\n2. Find the  ∏ (1,3,4,6,9,11,12,14)𝑚  and Implement this using NOR Gate Only. \\n3. Implement the simplified logic circuit from the following figure.(NAND Gate \\nonly) \\n \\n4. Draw the simplest possible logic diagram that implements the output of the \\nlogic diagram shown below (Using NAND/NOR Gate only). \\n \\n5. Implement the simplified logic circuit from the following figure. (NOR Gate \\nonly) \\n \\nCONCLUSION:'),\n",
       " Document(metadata={'producer': 'iLovePDF', 'creator': 'PyPDF', 'creationdate': '', 'moddate': '2023-04-04T09:30:38+00:00', 'source': '..\\\\data\\\\Pdf\\\\Digital Electronics Manual@StudentCopy.pdf', 'total_pages': 64, 'page': 19, 'page_label': '20', 'source_file': 'Digital Electronics Manual@StudentCopy.pdf', 'file_type': 'pdf'}, page_content='Dept. of Electronics & Communication \\nEngineering \\n \\n \\n \\n                                                                                    \\nEXPERIMENT NO.:        _______ \\nEXPERIMENT NAME:  ___________________________________________________________ \\n___________________________________________________________ \\n___________________________________________________________ \\nNAME (IN CAPITAL):______________________________________________________ \\nID: ____________________ YEAR: ________________ SEMESTER: _______________ \\n \\nSL. NO. GROUP MEMBER’S NAME (IN CAPITAL) ID \\n1.   \\n2.   \\n3.   \\n4.   \\n5.   \\n \\n \\n \\nDATE OF EXPERIMENT: __________________    DATE OF SUBMISSION: __________________  \\n \\n \\n \\n \\n \\n \\n \\n________________________________  \\n                                                                                                                 SIGNATURE OF TEACHER'),\n",
       " Document(metadata={'producer': 'iLovePDF', 'creator': 'PyPDF', 'creationdate': '', 'moddate': '2023-04-04T09:30:38+00:00', 'source': '..\\\\data\\\\Pdf\\\\Digital Electronics Manual@StudentCopy.pdf', 'total_pages': 64, 'page': 20, 'page_label': '21', 'source_file': 'Digital Electronics Manual@StudentCopy.pdf', 'file_type': 'pdf'}, page_content='Dept. of Electronics & Communication \\nEngineering \\n   \\n \\n \\n \\nEXPERIMENT NO.3 \\n \\nNAME OF THE EXPERIMENT:  Realization of even and odd parity generation \\nand checking. \\nAIM & OBJECTIVE:  To implement a 3-bit logic circuit for parity generator and \\nchecker (even and odd) and verify the truth table. \\nApparatus/ Components required:  Digital trainer kit, IC- 7486, IC -7404 and \\nconnecting wires. \\nTHEORY: \\nParity Generator: \\nA parity bit is an extra bit that is attached to a code group that is being \\ntransmitted from one location to another for detecting errors. The parity bit is made \\neither 0 or 1, dependin g on the number of 1s that are contained in the code group. \\nTwo different methods are used for attaching an extra bit --- \\n(I) Even parity \\n(II) Odd Parity \\n \\n(I) Even Parity  Generator: In this method, the value of the parity bit is \\nchosen so that the total number of 1s in the code group (including the parity \\nbit) is an even number.'),\n",
       " Document(metadata={'producer': 'iLovePDF', 'creator': 'PyPDF', 'creationdate': '', 'moddate': '2023-04-04T09:30:38+00:00', 'source': '..\\\\data\\\\Pdf\\\\Digital Electronics Manual@StudentCopy.pdf', 'total_pages': 64, 'page': 20, 'page_label': '21', 'source_file': 'Digital Electronics Manual@StudentCopy.pdf', 'file_type': 'pdf'}, page_content='(I) Even Parity  Generator: In this method, the value of the parity bit is \\nchosen so that the total number of 1s in the code group (including the parity \\nbit) is an even number. \\n \\n(II) Odd Parity Generator: In this method, the value of the parity bit is chosen \\nso that the total number of 1s in the code group (including the parity bit) is \\nan odd number.'),\n",
       " Document(metadata={'producer': 'iLovePDF', 'creator': 'PyPDF', 'creationdate': '', 'moddate': '2023-04-04T09:30:38+00:00', 'source': '..\\\\data\\\\Pdf\\\\Digital Electronics Manual@StudentCopy.pdf', 'total_pages': 64, 'page': 21, 'page_label': '22', 'source_file': 'Digital Electronics Manual@StudentCopy.pdf', 'file_type': 'pdf'}, page_content='Dept. of Electronics & Communication \\nEngineering \\n   \\n \\n \\n \\nTRUTH TABLE: \\nFor Even Parity generator:                                      For Odd Parity generator: \\n \\n                          \\n                                                                 \\n \\n \\n \\n \\n \\n𝐏𝐞𝐯𝐞𝐧 = (𝐀 ⊕ 𝐁) ⊕ 𝐂                                                 𝐏𝐨𝐝𝐝 = (𝐀 ⊕ 𝐁) ⊕ 𝐂̅̅̅̅̅̅̅̅̅̅̅̅̅̅̅̅̅ \\n \\nLOGIC DIAGRAMS: \\n \\n \\nParity Checker: \\nIt is a logic circuit that checks for possible errors in the transmission. This circuit \\ncan be an even parity checker or odd parity checker depending on the type of parity \\ngenerated at the transmission end. When the digital data is received, a parity \\nchecking circuit generates an error signal if the total number of 1s is odd in an even \\nparity system or even in an odd parity system. \\nInputs Output \\nA B C 𝐏𝐞𝐯𝐞𝐧 \\n0 0 0 0 \\n0 0 1 1 \\n0 1 0 1 \\n0 1 1 0 \\n1 0 0 1 \\n1 0 1 0 \\n1 1 0 0 \\n1 1 1 1 \\nInputs Output \\nA B C 𝐏𝐨𝐝𝐝 \\n0 0 0 1 \\n0 0 1 0 \\n0 1 0 0 \\n0 1 1 1 \\n1 0 0 0 \\n1 0 1 1 \\n1 1 0 1'),\n",
       " Document(metadata={'producer': 'iLovePDF', 'creator': 'PyPDF', 'creationdate': '', 'moddate': '2023-04-04T09:30:38+00:00', 'source': '..\\\\data\\\\Pdf\\\\Digital Electronics Manual@StudentCopy.pdf', 'total_pages': 64, 'page': 21, 'page_label': '22', 'source_file': 'Digital Electronics Manual@StudentCopy.pdf', 'file_type': 'pdf'}, page_content='Inputs Output \\nA B C 𝐏𝐞𝐯𝐞𝐧 \\n0 0 0 0 \\n0 0 1 1 \\n0 1 0 1 \\n0 1 1 0 \\n1 0 0 1 \\n1 0 1 0 \\n1 1 0 0 \\n1 1 1 1 \\nInputs Output \\nA B C 𝐏𝐨𝐝𝐝 \\n0 0 0 1 \\n0 0 1 0 \\n0 1 0 0 \\n0 1 1 1 \\n1 0 0 0 \\n1 0 1 1 \\n1 1 0 1 \\n1 1 1 0'),\n",
       " Document(metadata={'producer': 'iLovePDF', 'creator': 'PyPDF', 'creationdate': '', 'moddate': '2023-04-04T09:30:38+00:00', 'source': '..\\\\data\\\\Pdf\\\\Digital Electronics Manual@StudentCopy.pdf', 'total_pages': 64, 'page': 22, 'page_label': '23', 'source_file': 'Digital Electronics Manual@StudentCopy.pdf', 'file_type': 'pdf'}, page_content='Dept. of Electronics & Communication \\nEngineering \\n   \\n \\n \\n \\nThis parity check can always detect a single -bit error but unable to detect two or \\nmore-bit errors within the same code group or word. \\nWhen a parity error occurs, the ‘sum even’ output goes low and ‘sum odd’ \\noutput goes high. If this logic circuit is used as an odd parity checker, the number of \\ninput bits should be odd, but if an error occurs th e ‘sum odd’ output goes low and \\n‘sum even’ output goes high. \\n \\n(I) Even Parity Checker: Consider that three input messages along with even \\nparity bit is generated at the transmitting end. These 4 bi ts are applied as \\ninput to the parity checker circuit which chec ks the possibility of error on \\ndata. Since the data is transmitted with even parity, 4 bits received at circuit \\nmust have an even number of 1s. If any error occurs, the received message \\nconsists of odd number of 1s. The output of the parity checker will be \\nPcheven = {1 ; when error occurs\\n0 ; when no error'),\n",
       " Document(metadata={'producer': 'iLovePDF', 'creator': 'PyPDF', 'creationdate': '', 'moddate': '2023-04-04T09:30:38+00:00', 'source': '..\\\\data\\\\Pdf\\\\Digital Electronics Manual@StudentCopy.pdf', 'total_pages': 64, 'page': 22, 'page_label': '23', 'source_file': 'Digital Electronics Manual@StudentCopy.pdf', 'file_type': 'pdf'}, page_content='consists of odd number of 1s. The output of the parity checker will be \\nPcheven = {1 ; when error occurs\\n0 ; when no error  \\n \\n(II) Odd Parity Checker : Consider that three input messages along with odd \\nparity bit is generated at the transmitting end. These 4 bi ts are applied as \\ninput to the parity checker circuit which checks the possibility of error on \\ndata. Since the data is transmitted with odd parity, 4 bits received at circuit \\nmust have an odd number of 1s. If any error occurs, the received message \\nconsists of even number of 1s. The output of the parity checker will be \\nPchodd = {0 ; when no error\\n1 ; when error occurs'),\n",
       " Document(metadata={'producer': 'iLovePDF', 'creator': 'PyPDF', 'creationdate': '', 'moddate': '2023-04-04T09:30:38+00:00', 'source': '..\\\\data\\\\Pdf\\\\Digital Electronics Manual@StudentCopy.pdf', 'total_pages': 64, 'page': 23, 'page_label': '24', 'source_file': 'Digital Electronics Manual@StudentCopy.pdf', 'file_type': 'pdf'}, page_content='Dept. of Electronics & Communication \\nEngineering \\n   \\n \\n \\n \\nTRUTH TABLE: \\nFor Even Parity Checker:                                      For Odd Parity Checker: \\n \\n \\n \\n \\n \\n \\n \\n \\n \\n \\nLOGIC DIAGRAMS: \\n \\n \\nInputs Output \\nA B C 𝐏𝐞𝐯𝐞𝐧 𝐏𝐜𝐡𝐞𝐯𝐞𝐧  \\n0 0 0 0 0 \\n0 0 0 1 1 \\n0 0 1 0 1 \\n0 0 1 1 0 \\n0 1 0 0 1 \\n0 1 0 1 0 \\n0 1 1 0 0 \\n0 1 1 1 1 \\n1 0 0 0 1 \\n1 0 0 1 0 \\n1 0 1 0 0 \\n1 0 1 1 1 \\n1 1 0 0 0 \\n1 1 0 1 1 \\n1 1 1 0 1 \\n1 1 1 1 0 \\nInputs Output \\nA B C 𝐏𝐨𝐝𝐝 𝐏𝐜𝐡𝐨𝐝𝐝  \\n0 0 0 0 1 \\n0 0 0 1 0 \\n0 0 1 0 0 \\n0 0 1 1 1 \\n0 1 0 0 0 \\n0 1 0 1 1 \\n0 1 1 0 1 \\n0 1 1 1 0 \\n1 0 0 0 0 \\n1 0 0 1 1 \\n1 0 1 0 1 \\n1 0 1 1 0 \\n1 1 0 0 1 \\n1 1 0 1 0 \\n1 1 1 0 0 \\n1 1 1 1 1'),\n",
       " Document(metadata={'producer': 'iLovePDF', 'creator': 'PyPDF', 'creationdate': '', 'moddate': '2023-04-04T09:30:38+00:00', 'source': '..\\\\data\\\\Pdf\\\\Digital Electronics Manual@StudentCopy.pdf', 'total_pages': 64, 'page': 24, 'page_label': '25', 'source_file': 'Digital Electronics Manual@StudentCopy.pdf', 'file_type': 'pdf'}, page_content='Dept. of Electronics & Communication \\nEngineering \\n   \\n \\n \\n \\nEXERCISES: \\n1. Implement the simplified circuit in SOP form that has three inputs and one \\noutput. The output is: \\na) Equal to 1 when all the inputs are equal to 1 and odd number of inputs \\nare equal to 1, \\nb) Equal to 0 for other cases.  \\n2. Implement the simplified circuit in SOP form that has three inputs and one \\noutput. The output is: \\na) Equal to 1 when non e of the inputs are equal to 1 and even number of \\ninputs are equal to 1, \\nb) Equal to 0 for other cases. \\n  \\n \\nCONCLUSION:'),\n",
       " Document(metadata={'producer': 'iLovePDF', 'creator': 'PyPDF', 'creationdate': '', 'moddate': '2023-04-04T09:30:38+00:00', 'source': '..\\\\data\\\\Pdf\\\\Digital Electronics Manual@StudentCopy.pdf', 'total_pages': 64, 'page': 25, 'page_label': '26', 'source_file': 'Digital Electronics Manual@StudentCopy.pdf', 'file_type': 'pdf'}, page_content='Dept. of Electronics & Communication \\nEngineering \\n \\n \\n \\n                                                                                    \\nEXPERIMENT NO.:        _______ \\nEXPERIMENT NAME:  ___________________________________________________________ \\n___________________________________________________________ \\n___________________________________________________________ \\nNAME (IN CAPITAL):______________________________________________________ \\nID: ____________________ YEAR: ________________ SEMESTER: _______________ \\n \\nSL. NO. GROUP MEMBER’S NAME (IN CAPITAL) ID \\n1.   \\n2.   \\n3.   \\n4.   \\n5.   \\n \\n \\n \\nDATE OF EXPERIMENT: __________________    DATE OF SUBMISSION: __________________  \\n \\n \\n \\n \\n \\n \\n \\n________________________________  \\n                                                                                                                 SIGNATURE OF TEACHER'),\n",
       " Document(metadata={'producer': 'iLovePDF', 'creator': 'PyPDF', 'creationdate': '', 'moddate': '2023-04-04T09:30:38+00:00', 'source': '..\\\\data\\\\Pdf\\\\Digital Electronics Manual@StudentCopy.pdf', 'total_pages': 64, 'page': 26, 'page_label': '27', 'source_file': 'Digital Electronics Manual@StudentCopy.pdf', 'file_type': 'pdf'}, page_content='Dept. of Electronics & Communication \\nEngineering \\n   \\n \\n \\n \\nEXPERIMENT NO.4 \\n \\nNAME OF THE EXPERIMENT:  Binary to Gray and Gray to Binary Conversion. \\nAIM & OBJECTIVE:  To Verify The Truth Tables of Binary to Gray and Gray to \\nBinary Conversion. \\nApparatus/ Components required:  Digital trainer kit, IC- 7486 and connecting \\nwires. \\nTHEORY: \\nI. Binary to Gray Code Converter: \\nThe logical circuit which converts Binary code to equivalent Gray code is \\nknown as Binary to Gray code converter. If an ‘n’-bit Binary number is \\nrepresented by Bn, Bn−1, …, B1 and its equivalent Gray code will be Gn, \\nGn−1, …,G1, where Bn and Gn are the MSBs, then the Gray code bits are \\nobtained from the Binary code as follows. \\n𝐆𝐧 = 𝐁𝐧, \\n𝐆𝐧−𝟏 = 𝐁𝐧 ⊕ 𝐁𝐧−𝟏, \\n𝐆𝐧−𝟐 = 𝐁𝐧−𝟏 ⊕ 𝐁𝐧−𝟐, \\n⋮ \\nand 𝐆𝟏 = 𝐁𝟐 ⊕ 𝐁𝟏 \\nThe conversion steps for Binary to Gray code are: \\n(i) Record the Binary most significant bit (MSB) as MSB for Gray code. \\n(ii) XOR the Binary MSB with the next position (Binary) bit and record \\nthe resultant bit.'),\n",
       " Document(metadata={'producer': 'iLovePDF', 'creator': 'PyPDF', 'creationdate': '', 'moddate': '2023-04-04T09:30:38+00:00', 'source': '..\\\\data\\\\Pdf\\\\Digital Electronics Manual@StudentCopy.pdf', 'total_pages': 64, 'page': 26, 'page_label': '27', 'source_file': 'Digital Electronics Manual@StudentCopy.pdf', 'file_type': 'pdf'}, page_content='(i) Record the Binary most significant bit (MSB) as MSB for Gray code. \\n(ii) XOR the Binary MSB with the next position (Binary) bit and record \\nthe resultant bit. \\n(iii) Record successive XOR-ed bits until completed.'),\n",
       " Document(metadata={'producer': 'iLovePDF', 'creator': 'PyPDF', 'creationdate': '', 'moddate': '2023-04-04T09:30:38+00:00', 'source': '..\\\\data\\\\Pdf\\\\Digital Electronics Manual@StudentCopy.pdf', 'total_pages': 64, 'page': 27, 'page_label': '28', 'source_file': 'Digital Electronics Manual@StudentCopy.pdf', 'file_type': 'pdf'}, page_content='Dept. of Electronics & Communication \\nEngineering \\n   \\n \\n \\n \\nThe conversion process is shown in below. \\n \\nTRUTH TABLE: \\n \\nInputs Outputs \\n𝐁𝟐 𝐁𝟏 𝐁𝟎 𝐆𝟐 𝐆𝟏 𝐆𝟎 \\n0 0 0 0 0 0 \\n0 0 1 0 0 1 \\n0 1 0 0 1 1 \\n0 1 1 0 1 0 \\n1 0 0 1 1 0 \\n1 0 1 1 1 1 \\n1 1 0 1 0 1 \\n1 1 1 1 0 0 \\n \\nLOGIC DIAGRAMS:'),\n",
       " Document(metadata={'producer': 'iLovePDF', 'creator': 'PyPDF', 'creationdate': '', 'moddate': '2023-04-04T09:30:38+00:00', 'source': '..\\\\data\\\\Pdf\\\\Digital Electronics Manual@StudentCopy.pdf', 'total_pages': 64, 'page': 28, 'page_label': '29', 'source_file': 'Digital Electronics Manual@StudentCopy.pdf', 'file_type': 'pdf'}, page_content='Dept. of Electronics & Communication \\nEngineering \\n   \\n \\n \\n \\nII. Gray to Binary Code Converter: \\nThe logical circuit which converts Gray code to equivalent Binary code is \\nknown as Gray to Binary code converter. If an ‘n’-bit Gray number is \\nrepresented by Gn, Gn−1, …, G1 and its equivalent Binary code will be Bn, \\nBn−1, …, B1, where Gn and Bn are the MSBs, then the Binary code bits are \\nobtained from the Gray code as follows. \\n𝐁𝐧 = 𝐆𝐧, \\n𝐁𝐧−𝟏 = 𝐁𝐧 ⊕ 𝐆𝐧−𝟏 = 𝐆𝐧 ⊕ 𝐆𝐧−𝟏, \\n𝐁𝐧−𝟐 = 𝐁𝐧−𝟏 ⊕ 𝐆𝐧−𝟐 = 𝐆𝐧 ⊕ 𝐆𝐧−𝟏 ⊕ 𝐆𝐧−𝟐, \\n⋮ \\nand 𝐁𝟏 = 𝐁𝟐 ⊕ 𝐆𝟏 = 𝐆𝐧 ⊕ 𝐆𝐧−𝟏 ⊕ 𝐆𝐧−𝟐 ⊕ ⋯ ⊕ 𝐆𝟐 ⊕ 𝐆𝟏 \\nThe conversion steps for Gray to Binary code are: \\n(i) Record the most significant bit (MSB) of Gray code as MSB for \\nBinary code. \\n(ii) XOR the MSB of Binary code with the next position bit of Gray code \\nand record the resultant bit. \\n(iii) Continue the XOR for present Binary bit and next Gray code bit until \\nthe LSB is recorded for Binary code.  \\n \\nThe conversion process is shown in below.'),\n",
       " Document(metadata={'producer': 'iLovePDF', 'creator': 'PyPDF', 'creationdate': '', 'moddate': '2023-04-04T09:30:38+00:00', 'source': '..\\\\data\\\\Pdf\\\\Digital Electronics Manual@StudentCopy.pdf', 'total_pages': 64, 'page': 29, 'page_label': '30', 'source_file': 'Digital Electronics Manual@StudentCopy.pdf', 'file_type': 'pdf'}, page_content='Dept. of Electronics & Communication \\nEngineering \\n   \\n \\n \\n \\nTRUTH TABLE: \\n \\nInputs Outputs \\n𝐆𝟐 𝐆𝟏 𝐆𝟎 𝐁𝟐 𝐁𝟏 𝐁𝟎 \\n0 0 0 0 0 0 \\n0 0 1 0 0 1 \\n0 1 0 0 1 1 \\n0 1 1 0 1 0 \\n1 0 0 1 1 1 \\n1 0 1 1 1 0 \\n1 1 0 1 0 0 \\n1 1 1 1 0 1 \\n \\nLOGIC DIAGRAMS:'),\n",
       " Document(metadata={'producer': 'iLovePDF', 'creator': 'PyPDF', 'creationdate': '', 'moddate': '2023-04-04T09:30:38+00:00', 'source': '..\\\\data\\\\Pdf\\\\Digital Electronics Manual@StudentCopy.pdf', 'total_pages': 64, 'page': 30, 'page_label': '31', 'source_file': 'Digital Electronics Manual@StudentCopy.pdf', 'file_type': 'pdf'}, page_content='Dept. of Electronics & Communication \\nEngineering \\n   \\n \\n \\n \\nEXERCISES: \\n1. Design a Circuit with 3 inputs A, B, C and 3 outputs X, Y, Z. \\na) The output Z is logic 1 \\nI. When A=0 and there is odd number of input is at logic 1. \\nII. When A=1 and there is even number of inputs is at logic 1. \\nb) The output 𝑌 = 𝐴 ̅ 𝐵 𝐶̅ + 𝐴 ̅ 𝐵𝐶 + 𝐴𝐵̅𝐶̅ + 𝐴𝐵̅𝐶 \\nc) The output X is logic 1 when A = 1. \\n2. Design a Circuit with 3 inputs A, B, C and 3 outputs X, Y, Z. \\na) The output 𝑍 = 𝐴̅ 𝐵̅𝐶 + 𝐴̅ 𝐵 𝐶̅ + 𝐴𝐵̅𝐶 + 𝐴𝐵𝐶̅ \\nb) The output Y = ∑m(2,3,4,5) \\nc) The output X is logic 1 when A=1. \\n3. Design a Circuit with 3 inputs A, B, C and 3 outputs X, Y, Z. \\na) The output 𝑍 = 𝐴̅ 𝐵̅𝐶 + 𝐴̅ 𝐵 𝐶̅ + 𝐴𝐵𝐶 + 𝐴𝐵̅𝐶̅ \\nb) The output Y = ∑m(2,3,4,5) \\nc) The output X is logic 1 when A=1. \\n \\n4. Design a Circuit with 3 inputs A, B, C and 3 outputs X, Y, Z. \\na) The output Z is logic 1 when there is odd number  of inputs is at logic \\n1. \\nb) The output 𝑌 = 𝐴 ̅ 𝐵 𝐶 + 𝐴 ̅ 𝐵𝐶̅ + 𝐴𝐵̅𝐶̅ + 𝐴𝐵̅𝐶 \\nc) The output X is logic 1 when A = 1.'),\n",
       " Document(metadata={'producer': 'iLovePDF', 'creator': 'PyPDF', 'creationdate': '', 'moddate': '2023-04-04T09:30:38+00:00', 'source': '..\\\\data\\\\Pdf\\\\Digital Electronics Manual@StudentCopy.pdf', 'total_pages': 64, 'page': 30, 'page_label': '31', 'source_file': 'Digital Electronics Manual@StudentCopy.pdf', 'file_type': 'pdf'}, page_content='a) The output Z is logic 1 when there is odd number  of inputs is at logic \\n1. \\nb) The output 𝑌 = 𝐴 ̅ 𝐵 𝐶 + 𝐴 ̅ 𝐵𝐶̅ + 𝐴𝐵̅𝐶̅ + 𝐴𝐵̅𝐶 \\nc) The output X is logic 1 when A = 1. \\n \\n \\nCONCLUSION:'),\n",
       " Document(metadata={'producer': 'iLovePDF', 'creator': 'PyPDF', 'creationdate': '', 'moddate': '2023-04-04T09:30:38+00:00', 'source': '..\\\\data\\\\Pdf\\\\Digital Electronics Manual@StudentCopy.pdf', 'total_pages': 64, 'page': 31, 'page_label': '32', 'source_file': 'Digital Electronics Manual@StudentCopy.pdf', 'file_type': 'pdf'}, page_content='Dept. of Electronics & Communication \\nEngineering \\n \\n \\n \\n                                                                                    \\nEXPERIMENT NO.:        _______ \\nEXPERIMENT NAME:  ___________________________________________________________ \\n___________________________________________________________ \\n___________________________________________________________ \\nNAME (IN CAPITAL):______________________________________________________ \\nID: ____________________ YEAR: ________________ SEMESTER: _______________ \\n \\nSL. NO. GROUP MEMBER’S NAME (IN CAPITAL) ID \\n1.   \\n2.   \\n3.   \\n4.   \\n5.   \\n \\n \\n \\nDATE OF EXPERIMENT: __________________    DATE OF SUBMISSION: __________________  \\n \\n \\n \\n \\n \\n \\n \\n________________________________  \\n                                                                                                                 SIGNATURE OF TEACHER'),\n",
       " Document(metadata={'producer': 'iLovePDF', 'creator': 'PyPDF', 'creationdate': '', 'moddate': '2023-04-04T09:30:38+00:00', 'source': '..\\\\data\\\\Pdf\\\\Digital Electronics Manual@StudentCopy.pdf', 'total_pages': 64, 'page': 32, 'page_label': '33', 'source_file': 'Digital Electronics Manual@StudentCopy.pdf', 'file_type': 'pdf'}, page_content='Dept. of Electronics & Communication \\nEngineering \\n   \\n \\n \\n \\nEXPERIMENT NO.5 \\n \\nNAME OF THE EXPERIMENT:  Study of Half Adder and Full Adder circuits. \\nAIM & OBJECTIVE:  To design a Half Adder and Full Adder circuits using basic \\ngates and to verify its truth table. \\nApparatus/ Components required: Digital trainer kit, IC- 7486, 7408, 7432 and \\nconnecting wires. \\nTHEORY: \\nIn digital electronics adder is a circuit that adds binary numbers. Adders can be \\nconstructed to carry out many numerical representations. \\nHalf Adder: A Half Adder is a logical circuit that performs an addition operation \\non two binary digits. The Half adder produces sum and carry values which are both \\nbinary digits. \\nSum = A ⨁ B \\nCOUT = A.B \\nTRUTH TABLE:'),\n",
       " Document(metadata={'producer': 'iLovePDF', 'creator': 'PyPDF', 'creationdate': '', 'moddate': '2023-04-04T09:30:38+00:00', 'source': '..\\\\data\\\\Pdf\\\\Digital Electronics Manual@StudentCopy.pdf', 'total_pages': 64, 'page': 33, 'page_label': '34', 'source_file': 'Digital Electronics Manual@StudentCopy.pdf', 'file_type': 'pdf'}, page_content='Dept. of Electronics & Communication \\nEngineering \\n   \\n \\n \\n \\nLOGIC DIAGRAMS: \\n \\nFull Adder: A Full Adder is a logical circuit that performs an addition operation on \\nthree binary digits. A Full Adder produces a Sum and Carry Values, which are both \\nbinary digits. It can be combined with other Full adders or work on its own. \\nSum = (A ⨁ B) ⨁ CIN  \\nCOUT = (AB) + CIN . (A ⨁ B) \\nTRUTH TABLE:'),\n",
       " Document(metadata={'producer': 'iLovePDF', 'creator': 'PyPDF', 'creationdate': '', 'moddate': '2023-04-04T09:30:38+00:00', 'source': '..\\\\data\\\\Pdf\\\\Digital Electronics Manual@StudentCopy.pdf', 'total_pages': 64, 'page': 34, 'page_label': '35', 'source_file': 'Digital Electronics Manual@StudentCopy.pdf', 'file_type': 'pdf'}, page_content='Dept. of Electronics & Communication \\nEngineering \\n   \\n \\n \\n \\nBLOCK DIAGRAM: \\n \\nLOGIC DIAGRAMS:'),\n",
       " Document(metadata={'producer': 'iLovePDF', 'creator': 'PyPDF', 'creationdate': '', 'moddate': '2023-04-04T09:30:38+00:00', 'source': '..\\\\data\\\\Pdf\\\\Digital Electronics Manual@StudentCopy.pdf', 'total_pages': 64, 'page': 35, 'page_label': '36', 'source_file': 'Digital Electronics Manual@StudentCopy.pdf', 'file_type': 'pdf'}, page_content='Dept. of Electronics & Communication \\nEngineering \\n   \\n \\n \\n \\nEXERCISES: \\n1. Design a 2 input 1 bit Adder Circuit by which we  get two output \\nsimultaneously. \\n2. Implement the simplified logic circuit from the following figure. \\n \\n3. Implement the simplified circuit that is inside the block diagram having two \\noutputs with respect to three inputs.       \\n     \\n \\n \\nThe output equations are: F1 = X̅ Y̅Z + X̅YZ̅ + XY̅ Z̅ + XYZ  \\n        F2 = X̅YZ + XY̅Z + XYZ̅ + XYZ \\n4. Design a Circuit with 3 inputs A, B, C and 2 outputs X, Y. \\na)  The output X is logic 1 when even number of inputs is at logic 1 or all the \\ninputs at logic 1. \\nb)  The output Y is logic 1 when odd number of inputs is at logic 1. \\n \\n \\n \\nCONCLUSION:'),\n",
       " Document(metadata={'producer': 'iLovePDF', 'creator': 'PyPDF', 'creationdate': '', 'moddate': '2023-04-04T09:30:38+00:00', 'source': '..\\\\data\\\\Pdf\\\\Digital Electronics Manual@StudentCopy.pdf', 'total_pages': 64, 'page': 36, 'page_label': '37', 'source_file': 'Digital Electronics Manual@StudentCopy.pdf', 'file_type': 'pdf'}, page_content='Dept. of Electronics & Communication \\nEngineering \\n \\n \\n \\n                                                                                    \\nEXPERIMENT NO.:        _______ \\nEXPERIMENT NAME:  ___________________________________________________________ \\n___________________________________________________________ \\n___________________________________________________________ \\nNAME (IN CAPITAL):______________________________________________________ \\nID: ____________________ YEAR: ________________ SEMESTER: _______________ \\n \\nSL. NO. GROUP MEMBER’S NAME (IN CAPITAL) ID \\n1.   \\n2.   \\n3.   \\n4.   \\n5.   \\n \\n \\n \\nDATE OF EXPERIMENT: __________________    DATE OF SUBMISSION: __________________  \\n \\n \\n \\n \\n \\n \\n \\n________________________________  \\n                                                                                                                 SIGNATURE OF TEACHER'),\n",
       " Document(metadata={'producer': 'iLovePDF', 'creator': 'PyPDF', 'creationdate': '', 'moddate': '2023-04-04T09:30:38+00:00', 'source': '..\\\\data\\\\Pdf\\\\Digital Electronics Manual@StudentCopy.pdf', 'total_pages': 64, 'page': 37, 'page_label': '38', 'source_file': 'Digital Electronics Manual@StudentCopy.pdf', 'file_type': 'pdf'}, page_content='Dept. of Electronics & Communication \\nEngineering \\n   \\n \\n \\n \\nEXPERIMENT NO.6 \\n \\nNAME OF THE EXPERIMENT:   Study of Half Subtractor and Full Subtractor \\ncircuits. \\nAIM & OBJECTIVE:   To design a Half Subtractor and Full Subtractor circuits \\nusing basic gates and to verify its truth table. \\nApparatus/ Components required: Digital trainer kit, IC- 7486, 7408, 7404, 7432 \\nand connecting wires. \\nTHEORY: \\nHalf Subtractor:  Single-bit value is subtracted from another single bit value to \\nproduce difference and borrow bits. Any borrow from second bit into first bit is \\nknown as borrow taken. Half Subtractor circuit performs subtraction of single bit \\nvalue from another single bit value and produces single bit difference and borrows. \\nDifference = A⊕B \\nBorrow = 𝐴̅𝐵 \\nTRUTH TABLE:'),\n",
       " Document(metadata={'producer': 'iLovePDF', 'creator': 'PyPDF', 'creationdate': '', 'moddate': '2023-04-04T09:30:38+00:00', 'source': '..\\\\data\\\\Pdf\\\\Digital Electronics Manual@StudentCopy.pdf', 'total_pages': 64, 'page': 38, 'page_label': '39', 'source_file': 'Digital Electronics Manual@StudentCopy.pdf', 'file_type': 'pdf'}, page_content='Dept. of Electronics & Communication \\nEngineering \\n   \\n \\n \\n \\nLOGIC DIAGRAMS: \\n \\nFull Subtractor : Single bit value is subtracted from second single bit value \\nconsidering previous borrow to produce difference and borrow bits. Any borrow \\nfrom second bit into first bit is known as borrow. Full Subtractor circuit performs \\nsubtraction of single bit from another single bit value considering borrow and \\nproduces single bit difference and borrow. \\nDifference = (A⊕B) ⊕ Bi; \\nBorrow = 𝑨̅  B+ (A⊕B).Bi; \\nTRUTH TABLE:'),\n",
       " Document(metadata={'producer': 'iLovePDF', 'creator': 'PyPDF', 'creationdate': '', 'moddate': '2023-04-04T09:30:38+00:00', 'source': '..\\\\data\\\\Pdf\\\\Digital Electronics Manual@StudentCopy.pdf', 'total_pages': 64, 'page': 39, 'page_label': '40', 'source_file': 'Digital Electronics Manual@StudentCopy.pdf', 'file_type': 'pdf'}, page_content='Dept. of Electronics & Communication \\nEngineering \\n   \\n \\n \\n \\nBLOCK DIAGRAM: \\n \\nLOGIC DIAGRAMS:'),\n",
       " Document(metadata={'producer': 'iLovePDF', 'creator': 'PyPDF', 'creationdate': '', 'moddate': '2023-04-04T09:30:38+00:00', 'source': '..\\\\data\\\\Pdf\\\\Digital Electronics Manual@StudentCopy.pdf', 'total_pages': 64, 'page': 40, 'page_label': '41', 'source_file': 'Digital Electronics Manual@StudentCopy.pdf', 'file_type': 'pdf'}, page_content='Dept. of Electronics & Communication \\nEngineering \\n   \\n \\n \\n \\nEXERCISES: \\n1. Design a 2 input 1 bit Subtractor Circuit by which  we get two output \\nsimultaneously. \\n2. Implement the simplified logic circuit from the following figure. \\n \\n3. Implement the simplified circuit that is inside the block diagram having two \\noutputs with respect to three inputs.       \\n     \\n \\n \\nThe output equations are: F1 = X̅ Y̅Z + X̅YZ̅ + XY̅ Z̅ + XYZ  \\n        F2 = X̅ Y̅Z + X̅YZ̅ + X̅YZ + XYZ \\n4. Design a Circuit with 3 inputs A, B, C and 2 outputs X, Y. \\na)  The output 𝑋 = ∑ (1,2,3,7)𝑚  \\nb)  The output Y is logic 1 when odd number of inputs is at logic 1. \\n \\n \\n \\n \\nCONCLUSION:'),\n",
       " Document(metadata={'producer': 'iLovePDF', 'creator': 'PyPDF', 'creationdate': '', 'moddate': '2023-04-04T09:30:38+00:00', 'source': '..\\\\data\\\\Pdf\\\\Digital Electronics Manual@StudentCopy.pdf', 'total_pages': 64, 'page': 41, 'page_label': '42', 'source_file': 'Digital Electronics Manual@StudentCopy.pdf', 'file_type': 'pdf'}, page_content='Dept. of Electronics & Communication \\nEngineering \\n \\n \\n \\n                                                                                    \\nEXPERIMENT NO.:        _______ \\nEXPERIMENT NAME:  ___________________________________________________________ \\n___________________________________________________________ \\n___________________________________________________________ \\nNAME (IN CAPITAL):______________________________________________________ \\nID: ____________________ YEAR: ________________ SEMESTER: _______________ \\n \\nSL. NO. GROUP MEMBER’S NAME (IN CAPITAL) ID \\n1.   \\n2.   \\n3.   \\n4.   \\n5.   \\n \\n \\n \\nDATE OF EXPERIMENT: __________________    DATE OF SUBMISSION: __________________  \\n \\n \\n \\n \\n \\n \\n \\n________________________________  \\n                                                                                                                 SIGNATURE OF TEACHER'),\n",
       " Document(metadata={'producer': 'iLovePDF', 'creator': 'PyPDF', 'creationdate': '', 'moddate': '2023-04-04T09:30:38+00:00', 'source': '..\\\\data\\\\Pdf\\\\Digital Electronics Manual@StudentCopy.pdf', 'total_pages': 64, 'page': 42, 'page_label': '43', 'source_file': 'Digital Electronics Manual@StudentCopy.pdf', 'file_type': 'pdf'}, page_content='Dept. of Electronics & Communication \\nEngineering \\n   \\n \\n \\nEXPERIMENT NO.7 \\n \\nNAME OF THE EXPERIMENT:  Design of Combinational Circuits using \\nMultiplexer. \\nAIM & OBJECTIVE:   \\na) To Design and verify the truth table of 8 x 1 Multiplexer circuit. \\nb) To Design of Combinational Circuits using Multiplexer. \\nApparatus/ Components required:  Digital trainer kit, IC- 74151, IC-7432 and \\nconnecting wires. \\nTHEORY: \\nThe term multiplex means “many into one.” Multiplexing means transmitting a \\nlarge number of information units over a smaller number of channels or lines.  \\nA digital multiplexer is a combinational circuit that selects binary information from \\none of many input lines and transmits it to a single output line. That is why the \\nmultiplexers are also called “data selectors.”  \\nThe selection of a particular input lin e is controlled by a set of selection lines. \\nNormally, there are 2 ⁿ input lines and n selection lines whose bit combinations \\ndetermine which input is selected.'),\n",
       " Document(metadata={'producer': 'iLovePDF', 'creator': 'PyPDF', 'creationdate': '', 'moddate': '2023-04-04T09:30:38+00:00', 'source': '..\\\\data\\\\Pdf\\\\Digital Electronics Manual@StudentCopy.pdf', 'total_pages': 64, 'page': 42, 'page_label': '43', 'source_file': 'Digital Electronics Manual@StudentCopy.pdf', 'file_type': 'pdf'}, page_content='Normally, there are 2 ⁿ input lines and n selection lines whose bit combinations \\ndetermine which input is selected.  \\nThe size of a multiplexer is specified by the number 2 𝑛 of its input lines and the \\nsingle outp ut line referred to as “𝟐ⁿ to 1” multiplexer or “𝟐ⁿ×𝟏” multiplexer or \\n“𝟐ⁿ∶𝟏” multiplexer. It is then implied that it also contains 𝑛 selection lines. A \\nmultiplexer is often abbreviated as MUX.  \\nMultiplexers usually have an ENABLE input that can be us ed to control the \\nmultiplexing function. When this input is enabled, that is, when it is in logic ‘1’ or \\nlogic ‘0’ state, depending upon whether the ENABLE input is active HIGH or active \\nLOW respectively, the output is enabled. The multiplexer functions normally. When \\nthe ENABLE input is inactive, the output is disabled and permanently goes to either \\nlogic ‘0’ or logic ‘1’ state, depending upon whether the output is uncomplemented \\nor complemented.'),\n",
       " Document(metadata={'producer': 'iLovePDF', 'creator': 'PyPDF', 'creationdate': '', 'moddate': '2023-04-04T09:30:38+00:00', 'source': '..\\\\data\\\\Pdf\\\\Digital Electronics Manual@StudentCopy.pdf', 'total_pages': 64, 'page': 43, 'page_label': '44', 'source_file': 'Digital Electronics Manual@StudentCopy.pdf', 'file_type': 'pdf'}, page_content='Dept. of Electronics & Communication \\nEngineering \\n   \\n \\n \\n8x1 Multiplexer:  \\nAn 8-to-1 Multiplexer (MUX) is a combinational circuit with 8 input lines (D0, D1, \\nD2, D3, D4, D5, D6 and D 7) and one output line (Y) and three selection lines  (S2, \\nS1 and S0 ). On rece iving active low enable input, M ux is able to perform the \\nintended function. \\nPIN DIAGRAMS: \\n \\nTRUTH TABLE: \\n \\nINPUT OUTPUT \\nE S2 S1 S0 Y \\n0 X X X 0 \\n1 0 0 0 D0 \\n1 0 0 1 D1 \\n1 0 1 0 D2 \\n1 0 1 1 D3 \\n1 1 0 0 D4 \\n1 1 0 1 D5 \\n1 1 1 0 D6 \\n1 1 1 1 D7'),\n",
       " Document(metadata={'producer': 'iLovePDF', 'creator': 'PyPDF', 'creationdate': '', 'moddate': '2023-04-04T09:30:38+00:00', 'source': '..\\\\data\\\\Pdf\\\\Digital Electronics Manual@StudentCopy.pdf', 'total_pages': 64, 'page': 44, 'page_label': '45', 'source_file': 'Digital Electronics Manual@StudentCopy.pdf', 'file_type': 'pdf'}, page_content='Dept. of Electronics & Communication \\nEngineering \\n   \\n \\n \\n8:1 Multiplexer using two 4:1 Multiplexer and one 2:1 Multiplexer: \\nLOGIC DIAGRAMS: \\n \\n \\nTRUTH TABLE: \\n \\nInputs Output \\n           𝑬̅ 𝐒𝟐 𝐒𝟏 𝐒𝟎 Y \\n0 X X X 0 \\n1 0 0 0 D0 \\n1 0 0 1 D1 \\n1 0 1 0 D2 \\n1 0 1 1 D3 \\n1 1 0 0 D4 \\n1 1 0 1 D5 \\n1 1 1 0 D6 \\n1 1 1 1 D7 \\n \\nX \\uf0e0 0 or 1 (don’t care) \\n \\nOUTPUT EQUATION: \\n \\nY = E̅ S2̅̅̅ S1̅  S0̅̅̅D0 + E̅ S2̅̅̅ S1̅ S0D1 + E̅ S2̅̅̅S1S0̅̅̅D2 + E̅ S2̅̅̅S1S0D3 + E̅ S2S1̅  S0̅̅̅D4\\n+ E̅ S2S1̅ S0D5 + E̅ S2S1S0̅̅̅D6 + E̅ S2S1S0D7'),\n",
       " Document(metadata={'producer': 'iLovePDF', 'creator': 'PyPDF', 'creationdate': '', 'moddate': '2023-04-04T09:30:38+00:00', 'source': '..\\\\data\\\\Pdf\\\\Digital Electronics Manual@StudentCopy.pdf', 'total_pages': 64, 'page': 45, 'page_label': '46', 'source_file': 'Digital Electronics Manual@StudentCopy.pdf', 'file_type': 'pdf'}, page_content='Dept. of Electronics & Communication \\nEngineering \\n   \\n \\n \\nEXERCISES: \\n1. Implement the 8:1 multiplexer using 4:1 multiplexer and OR gate. \\n2. Implement the full adder circuits using 8:1 multiplexer. \\n3. Implement the full Subtractor circuits using 8:1 multiplexer. \\n4. Implement the Boolean functions by selecting appropriate multiplexer. \\n𝐘(𝐀, 𝐁, 𝐂, 𝐃) = ∑𝐦(𝟏, 𝟑, 𝟒, 𝟏𝟏, 𝟏𝟐, 𝟏𝟑, 𝟏𝟒, 𝟏𝟓) \\n \\n \\n \\n \\n \\n \\n \\n \\n \\n \\n \\n \\n \\nCONCLUSION:'),\n",
       " Document(metadata={'producer': 'iLovePDF', 'creator': 'PyPDF', 'creationdate': '', 'moddate': '2023-04-04T09:30:38+00:00', 'source': '..\\\\data\\\\Pdf\\\\Digital Electronics Manual@StudentCopy.pdf', 'total_pages': 64, 'page': 46, 'page_label': '47', 'source_file': 'Digital Electronics Manual@StudentCopy.pdf', 'file_type': 'pdf'}, page_content='Dept. of Electronics & Communication \\nEngineering \\n \\n \\n \\n                                                                                    \\nEXPERIMENT NO.:        _______ \\nEXPERIMENT NAME:  ___________________________________________________________ \\n___________________________________________________________ \\n___________________________________________________________ \\nNAME (IN CAPITAL):______________________________________________________ \\nID: ____________________ YEAR: ________________ SEMESTER: _______________ \\n \\nSL. NO. GROUP MEMBER’S NAME (IN CAPITAL) ID \\n1.   \\n2.   \\n3.   \\n4.   \\n5.   \\n \\n \\n \\nDATE OF EXPERIMENT: __________________    DATE OF SUBMISSION: __________________  \\n \\n \\n \\n \\n \\n \\n \\n________________________________  \\n                                                                                                                 SIGNATURE OF TEACHER'),\n",
       " Document(metadata={'producer': 'iLovePDF', 'creator': 'PyPDF', 'creationdate': '', 'moddate': '2023-04-04T09:30:38+00:00', 'source': '..\\\\data\\\\Pdf\\\\Digital Electronics Manual@StudentCopy.pdf', 'total_pages': 64, 'page': 47, 'page_label': '48', 'source_file': 'Digital Electronics Manual@StudentCopy.pdf', 'file_type': 'pdf'}, page_content='Dept. of Electronics & Communication \\nEngineering \\n   \\n \\n \\nEXPERIMENT NO.8 \\n \\nNAME OF THE EXPERIMENT:  Realization of decoder circuit using logic gates. \\nAIM & OBJECTIVE:  To design a 2 to 4 decoder using logic gates and verify the \\ntruth table. \\nApparatus/ Components required: Digital trainer kit, IC 7486, IC 7408, IC 7432, \\nIC 7404 and connecting wires. \\n \\nTHEORY: \\nIn a digital system, discrete quantities of information are represented with binary \\ncodes. A binary code of ‘ 𝐧’ bits can represent up to ‘ 𝟐𝐧’ distinct elements of the \\ncoded information. \\nA decoder is a combinational circuit that converts ‘ 𝐧’-bits of binary \\ninformation of input lines to a maximum of ‘ 𝟐𝐧’ unique output lines. If the ‘𝐧’-bit \\ndecoded information has unused or don’t-care combinations, the decoder output will \\nhave less than ‘𝟐𝐧’ outputs. Usually, decoders are designated as an ‘𝐧’ to ‘𝐦’ lines \\ndecoder, where ‘𝐧’ is the number of input lines and ‘𝐦 ≤ 𝟐𝐧’ is the number of output'),\n",
       " Document(metadata={'producer': 'iLovePDF', 'creator': 'PyPDF', 'creationdate': '', 'moddate': '2023-04-04T09:30:38+00:00', 'source': '..\\\\data\\\\Pdf\\\\Digital Electronics Manual@StudentCopy.pdf', 'total_pages': 64, 'page': 47, 'page_label': '48', 'source_file': 'Digital Electronics Manual@StudentCopy.pdf', 'file_type': 'pdf'}, page_content='have less than ‘𝟐𝐧’ outputs. Usually, decoders are designated as an ‘𝐧’ to ‘𝐦’ lines \\ndecoder, where ‘𝐧’ is the number of input lines and ‘𝐦 ≤ 𝟐𝐧’ is the number of output \\nlines. The purpose is to generate the ‘𝟐𝐧’ (or less) minterms of ‘𝐧’ input variables. \\nDecoders have a wide variety of applications in digital systems such as data \\ndemultiplexing, digital display, digital to analog converting, memory addressing, \\netc. \\n \\n2-to-4 Decoder:  \\nA 2 -to-4 Decoder is a  combinational circuit has two inputs (A and B ) and four \\noutputs (D0-D3). Based on the 2 inputs, one of the four outputs is selected.'),\n",
       " Document(metadata={'producer': 'iLovePDF', 'creator': 'PyPDF', 'creationdate': '', 'moddate': '2023-04-04T09:30:38+00:00', 'source': '..\\\\data\\\\Pdf\\\\Digital Electronics Manual@StudentCopy.pdf', 'total_pages': 64, 'page': 48, 'page_label': '49', 'source_file': 'Digital Electronics Manual@StudentCopy.pdf', 'file_type': 'pdf'}, page_content='Dept. of Electronics & Communication \\nEngineering \\n   \\n \\n \\nTRUTH TABLE: \\n \\nINPUTS OUTPUTS \\nA B D0 D1 D2 D3 \\n0 0 1 0 0 0 \\n0 1 0 1 0 0 \\n1 0 0 0 1 0 \\n1 1 0 0 0 1 \\n \\nLOGICAL EXPRESSION: \\n𝐷0 = A̅.B̅ \\n𝐷1 = A̅.B \\n𝐷2 = A.B̅ \\n𝐷3 = A.B \\nLOGIC DIAGRAMS:'),\n",
       " Document(metadata={'producer': 'iLovePDF', 'creator': 'PyPDF', 'creationdate': '', 'moddate': '2023-04-04T09:30:38+00:00', 'source': '..\\\\data\\\\Pdf\\\\Digital Electronics Manual@StudentCopy.pdf', 'total_pages': 64, 'page': 49, 'page_label': '50', 'source_file': 'Digital Electronics Manual@StudentCopy.pdf', 'file_type': 'pdf'}, page_content='Dept. of Electronics & Communication \\nEngineering \\n   \\n \\n \\nEXERCISES: \\n1. Design 2 x 4 decoder using suitable logic gate, and also implement the \\nBoolean function ∑ (1,2)𝑚  using it. \\n2. Design 2 x 4 decoder using suitable logic gate, and also implement the \\nBoolean function ∑ (0,3)𝑚  using it. \\n \\n \\n \\n \\n \\n \\n \\n \\n \\n \\n \\n \\nCONCLUSION:'),\n",
       " Document(metadata={'producer': 'iLovePDF', 'creator': 'PyPDF', 'creationdate': '', 'moddate': '2023-04-04T09:30:38+00:00', 'source': '..\\\\data\\\\Pdf\\\\Digital Electronics Manual@StudentCopy.pdf', 'total_pages': 64, 'page': 50, 'page_label': '51', 'source_file': 'Digital Electronics Manual@StudentCopy.pdf', 'file_type': 'pdf'}, page_content='Dept. of Electronics & Communication \\nEngineering \\n \\n \\n \\n                                                                                    \\nEXPERIMENT NO.:        _______ \\nEXPERIMENT NAME:  ___________________________________________________________ \\n___________________________________________________________ \\n___________________________________________________________ \\nNAME (IN CAPITAL):______________________________________________________ \\nID: ____________________ YEAR: ________________ SEMESTER: _______________ \\n \\nSL. NO. GROUP MEMBER’S NAME (IN CAPITAL) ID \\n1.   \\n2.   \\n3.   \\n4.   \\n5.   \\n \\n \\n \\nDATE OF EXPERIMENT: __________________    DATE OF SUBMISSION: __________________  \\n \\n \\n \\n \\n \\n \\n \\n________________________________  \\n                                                                                                                 SIGNATURE OF TEACHER'),\n",
       " Document(metadata={'producer': 'iLovePDF', 'creator': 'PyPDF', 'creationdate': '', 'moddate': '2023-04-04T09:30:38+00:00', 'source': '..\\\\data\\\\Pdf\\\\Digital Electronics Manual@StudentCopy.pdf', 'total_pages': 64, 'page': 51, 'page_label': '52', 'source_file': 'Digital Electronics Manual@StudentCopy.pdf', 'file_type': 'pdf'}, page_content='Dept. of Electronics & Communication \\nEngineering \\n   \\n \\n \\nEXPERIMENT NO.9 \\nNAME OF THE EXPERIMENT:  Realization of Flip-Flops. \\nAIM & OBJECTIVE:  To verify the truth table of S-R and J-K Flip-Flop. \\nApparatus/ Components required: Digital Trainer Kit, IC- 7400, IC- 7476 and \\nconnecting wires. \\nTHEORY: \\nThe logic circuits whose outputs at any instant of time depend s only on the input \\nsignals present at that time are known as combinational circuits. The output in \\ncombinational circuits does not depend upon any past inputs or outputs. \\nOn the other hand, the logic circuits whose outputs at any instant of time depends on \\nthe present inputs as well as on the past outputs are called sequential circuits. In \\nsequential circuits, the output signals are fed back to the input side. \\nSequential circuits are broadly classified into two main categories, known as \\nsynchronous or clock ed and asynchronous or unclocked sequential circuits, \\ndepending on the timing of their signals.'),\n",
       " Document(metadata={'producer': 'iLovePDF', 'creator': 'PyPDF', 'creationdate': '', 'moddate': '2023-04-04T09:30:38+00:00', 'source': '..\\\\data\\\\Pdf\\\\Digital Electronics Manual@StudentCopy.pdf', 'total_pages': 64, 'page': 51, 'page_label': '52', 'source_file': 'Digital Electronics Manual@StudentCopy.pdf', 'file_type': 'pdf'}, page_content='Sequential circuits are broadly classified into two main categories, known as \\nsynchronous or clock ed and asynchronous or unclocked sequential circuits, \\ndepending on the timing of their signals. \\nThe basic 1-bit digital memory circuit is known as a flip -flop. It can have only two \\nstates, either the 1 state or the 0 state. A flip -flop is also known as a b istable \\nmultivibrator. It has one or more inputs and two outputs. The two outputs are \\ncomplementary to each other. \\nIf Q is 1 i.e., Set, then 𝑄̅ is 0; if Q is 0 i.e., Reset, then 𝑄̅ is 1. That means Q and Q̅  \\ncannot be at the same state simultaneously. If it  happens by any chance, it violates \\nthe definition of a flip -flop and hence is called an undefined  condition. Normally, \\nthe state of Q is called the state of the flip -flop, whereas the state of Q̅  is called the \\ncomplementary state of the flip-flop. When the output Q is either 1 or 0, it remains'),\n",
       " Document(metadata={'producer': 'iLovePDF', 'creator': 'PyPDF', 'creationdate': '', 'moddate': '2023-04-04T09:30:38+00:00', 'source': '..\\\\data\\\\Pdf\\\\Digital Electronics Manual@StudentCopy.pdf', 'total_pages': 64, 'page': 51, 'page_label': '52', 'source_file': 'Digital Electronics Manual@StudentCopy.pdf', 'file_type': 'pdf'}, page_content='the state of Q is called the state of the flip -flop, whereas the state of Q̅  is called the \\ncomplementary state of the flip-flop. When the output Q is either 1 or 0, it remains \\nin that state unless one or more inputs are excited to effect a change in the output. \\nSince the output of the flip -flop remains in the same state until the trigger pulse is \\napplied to change the state, it can be regarded as a memory device to store one binary \\nbit.'),\n",
       " Document(metadata={'producer': 'iLovePDF', 'creator': 'PyPDF', 'creationdate': '', 'moddate': '2023-04-04T09:30:38+00:00', 'source': '..\\\\data\\\\Pdf\\\\Digital Electronics Manual@StudentCopy.pdf', 'total_pages': 64, 'page': 52, 'page_label': '53', 'source_file': 'Digital Electronics Manual@StudentCopy.pdf', 'file_type': 'pdf'}, page_content='Dept. of Electronics & Communication \\nEngineering \\n   \\n \\n \\nGenerally, synchronous circuits change their states only when clock pulses are \\npresent. The operation of the basic flip -flop can be modified by including an \\nadditional input to control the behaviour of the circuit. \\nS-R Flip-Flop: It is known as “Set” and “Reset” Flip -Flop The characteristic is \\ndefined as \\na) If R=0, S=0, i.e. in the absence of any trigger input, the output retains its state \\nobtained in immediately preceding operation i.e. output Y is either 0 or 1. This \\nstate is known as No Change state. \\nb) If R=0, S=1, i.e. if any trigger input is applied, output Y is   1. This condition \\nis known as SET. \\nc) If R=1, S=0, i.e. if any trigger input is applied, output Y is 0. This condition \\nis known as RESET. \\nd) If R=1, S=1, i.e. If a trigger is applied, a problem arises since the output Y is  \\nforced simultaneously to 0 and 1. Thus this state is known as Forbidden State. \\nTRUTH TABLE:'),\n",
       " Document(metadata={'producer': 'iLovePDF', 'creator': 'PyPDF', 'creationdate': '', 'moddate': '2023-04-04T09:30:38+00:00', 'source': '..\\\\data\\\\Pdf\\\\Digital Electronics Manual@StudentCopy.pdf', 'total_pages': 64, 'page': 52, 'page_label': '53', 'source_file': 'Digital Electronics Manual@StudentCopy.pdf', 'file_type': 'pdf'}, page_content='d) If R=1, S=1, i.e. If a trigger is applied, a problem arises since the output Y is  \\nforced simultaneously to 0 and 1. Thus this state is known as Forbidden State. \\nTRUTH TABLE: \\nInputs Outputs Operation performed CLK S R 𝐐𝐧+𝟏 𝐐𝐧+𝟏̅̅̅̅̅̅̅ \\n0 X X Qn Qn̅̅̅̅ Memory or latch \\n1 0 0 Qn Qn̅̅̅̅ Memory or latch \\n1 0 1 0 1 Reset to 0 \\n1 1 0 1 0 Set to 1 \\n1 1 1 1 1 Invalid \\n \\nLOGIC DIAGRAM:'),\n",
       " Document(metadata={'producer': 'iLovePDF', 'creator': 'PyPDF', 'creationdate': '', 'moddate': '2023-04-04T09:30:38+00:00', 'source': '..\\\\data\\\\Pdf\\\\Digital Electronics Manual@StudentCopy.pdf', 'total_pages': 64, 'page': 53, 'page_label': '54', 'source_file': 'Digital Electronics Manual@StudentCopy.pdf', 'file_type': 'pdf'}, page_content='Dept. of Electronics & Communication \\nEngineering \\n   \\n \\n \\nJ-K Flip-Flop: The main disadvantage of S-R Flip-Flop is its forbidden state but J-\\nK Flip -Flop overcomes this operation for both J=K= 1, The Output Toggles its \\nprevious states. Rest of the states are same as S -R FF. For purpose of counting, the \\nJK flip-flop is the ideal element to use. The variable J and K are called control I/Ps \\nbecause they determine what the flip- flop does when a positive edge arrives. \\nTRUTH TABLE: \\nInputs Outputs Operation performed CLK J K 𝐐𝐧+𝟏 𝐐𝐧+𝟏̅̅̅̅̅̅̅ \\n0 X X Qn Qn̅̅̅̅ Memory or latch \\n1 0 0 Qn Qn̅̅̅̅ Memory or latch \\n1 0 1 0 1 Reset to 0 \\n1 1 0 1 0 Set to 1 \\n1 1 1 Qn̅̅̅̅ Qn Toggle \\n \\nLOGIC DIAGRAM:'),\n",
       " Document(metadata={'producer': 'iLovePDF', 'creator': 'PyPDF', 'creationdate': '', 'moddate': '2023-04-04T09:30:38+00:00', 'source': '..\\\\data\\\\Pdf\\\\Digital Electronics Manual@StudentCopy.pdf', 'total_pages': 64, 'page': 54, 'page_label': '55', 'source_file': 'Digital Electronics Manual@StudentCopy.pdf', 'file_type': 'pdf'}, page_content='Dept. of Electronics & Communication \\nEngineering \\n   \\n \\n \\nPIN CONFIGURATION OF IC 7476 (MASTER SLAVE DUAL J -K FLIP -\\nFLOP): \\n \\n \\n \\n \\nProcedure to connect the pins of IC 7476 for J-K flip-flop: \\n \\nPin 1 \\uf0e0 Connect to manual pulse \\nPin 2, Pin 3 and Pin 5 \\uf0e0 Connect with +5V power supply for normal CLK \\n                                          Operation \\nPin 4 and Pin 16 \\uf0e0 Connect with input lines \\nPin 15 and Pin 14 \\uf0e0 Connect to output lines \\nPin 13 \\uf0e0 Connect with GND (0V)'),\n",
       " Document(metadata={'producer': 'iLovePDF', 'creator': 'PyPDF', 'creationdate': '', 'moddate': '2023-04-04T09:30:38+00:00', 'source': '..\\\\data\\\\Pdf\\\\Digital Electronics Manual@StudentCopy.pdf', 'total_pages': 64, 'page': 55, 'page_label': '56', 'source_file': 'Digital Electronics Manual@StudentCopy.pdf', 'file_type': 'pdf'}, page_content='Dept. of Electronics & Communication \\nEngineering \\n   \\n \\n \\nEXERCISES: \\n1. A circuit has three inputs and one output. Show that the output is invalid \\nwhen all the inputs are HIGH under any external signal. Implement the \\ncircuit using NAND gates only. \\n2. A circuit has three inputs and one output. Show that the output is toggling \\nwhen all the inputs are HIGH under any external signal. Implement the \\ncircuit using proper components. \\n3. Verify the truth table of D-Flip Flop using NAND Gates. \\n4. Verify the truth table of T-Flip Flop using IC 7476. \\n \\n \\n \\n \\n \\nCONCLUSION:'),\n",
       " Document(metadata={'producer': 'iLovePDF', 'creator': 'PyPDF', 'creationdate': '', 'moddate': '2023-04-04T09:30:38+00:00', 'source': '..\\\\data\\\\Pdf\\\\Digital Electronics Manual@StudentCopy.pdf', 'total_pages': 64, 'page': 56, 'page_label': '57', 'source_file': 'Digital Electronics Manual@StudentCopy.pdf', 'file_type': 'pdf'}, page_content='Dept. of Electronics & Communication \\nEngineering \\n \\n \\n \\n                                                                                    \\nEXPERIMENT NO.:        _______ \\nEXPERIMENT NAME:  ___________________________________________________________ \\n___________________________________________________________ \\n___________________________________________________________ \\nNAME (IN CAPITAL):______________________________________________________ \\nID: ____________________ YEAR: ________________ SEMESTER: _______________ \\n \\nSL. NO. GROUP MEMBER’S NAME (IN CAPITAL) ID \\n1.   \\n2.   \\n3.   \\n4.   \\n5.   \\n \\n \\n \\nDATE OF EXPERIMENT: __________________    DATE OF SUBMISSION: __________________  \\n \\n \\n \\n \\n \\n \\n \\n________________________________  \\n                                                                                                                 SIGNATURE OF TEACHER'),\n",
       " Document(metadata={'producer': 'iLovePDF', 'creator': 'PyPDF', 'creationdate': '', 'moddate': '2023-04-04T09:30:38+00:00', 'source': '..\\\\data\\\\Pdf\\\\Digital Electronics Manual@StudentCopy.pdf', 'total_pages': 64, 'page': 57, 'page_label': '58', 'source_file': 'Digital Electronics Manual@StudentCopy.pdf', 'file_type': 'pdf'}, page_content='Dept. of Electronics & Communication \\nEngineering \\n   \\n \\n \\nEXPERIMENT NO.10 \\nNAME OF THE EXPERIMENT:  Realization of asynchronous and synchronous \\ncounters. \\nAIM & OBJECTIVE:   \\na) To implement the asynchronous 2 -bit UP counter using IC 7476 and verify \\nthe truth table. \\nb) To implement the asynchronous 2 -bit DOWN counter using IC 7476 and \\nverify the truth table. \\nc) To implement the synchronous 2-bit UP counter using IC 7476 and verify the \\ntruth table. \\nd) To implement the synchronous 2-bit DOWN counter using IC 7476 and verify \\nthe truth table. \\nApparatus/ Components required: Digital trainer kit, IC 7476 (Master slave dual \\nJK flip-flop), and connecting wires. \\nTHEORY: \\nCounters are one of the simplest types of sequential networks. A counter is usually \\nconstructed from one or more flip -flops that change state in a prescribed sequence \\nwhen input pulses are received. A counter driven by a clock can be used to count the'),\n",
       " Document(metadata={'producer': 'iLovePDF', 'creator': 'PyPDF', 'creationdate': '', 'moddate': '2023-04-04T09:30:38+00:00', 'source': '..\\\\data\\\\Pdf\\\\Digital Electronics Manual@StudentCopy.pdf', 'total_pages': 64, 'page': 57, 'page_label': '58', 'source_file': 'Digital Electronics Manual@StudentCopy.pdf', 'file_type': 'pdf'}, page_content='constructed from one or more flip -flops that change state in a prescribed sequence \\nwhen input pulses are received. A counter driven by a clock can be used to count the \\nnumber of clock cycles. Counters can be broadly classified into three categories: \\n(i) Asynchronous and Synchronous counters \\n(ii) Single and multimode counters \\n(iii) Modulus counters \\nIn asynchronous counters, each flip flop is triggered by the previous flip -flop. This \\ntype of counters is also called ripple or serial counter. \\nIn synchronous counters, ea ch flip flop is triggered by the same clock pulses \\nsimultaneously. This type of counter is also known as a parallel counter.'),\n",
       " Document(metadata={'producer': 'iLovePDF', 'creator': 'PyPDF', 'creationdate': '', 'moddate': '2023-04-04T09:30:38+00:00', 'source': '..\\\\data\\\\Pdf\\\\Digital Electronics Manual@StudentCopy.pdf', 'total_pages': 64, 'page': 58, 'page_label': '59', 'source_file': 'Digital Electronics Manual@StudentCopy.pdf', 'file_type': 'pdf'}, page_content='Dept. of Electronics & Communication \\nEngineering \\n   \\n \\n \\nIn single mode counters, the count operation can be done either in count-up mode or \\ncount-down mode. \\n  In multimode counters, the c ount operation can be done in both count -up \\nmode and count-down mode simultaneously. \\nModulus counters are defined based on the number of states they are capable of \\ncounting. This type of counter can again be classified into two types: Mod N and \\nMOD < N. \\n(I) Asynchronous 2-bit UP counter: \\nBlock Diagram (with IC 7476 pin numbers) \\n \\nProcedure to connect the pins of IC 7476 for Asynchronous 2-bit UP counter: \\n \\nPin 1 \\uf0e0 Connect to manual pulse \\nPin 2, Pin 3, Pin 4, Pin 5, Pin 7, Pin 8, Pin 9, Pin 12, and Pin 16 \\uf0e0 Connect  \\nwith +5V power supply \\nPin 11 and Pin 15 \\uf0e0 Connect with output lines \\nPin 15 and Pin 6 \\uf0e0 Make shorted for next stage clock pulse \\nPin 13 \\uf0e0 Connect with GND (0V)'),\n",
       " Document(metadata={'producer': 'iLovePDF', 'creator': 'PyPDF', 'creationdate': '', 'moddate': '2023-04-04T09:30:38+00:00', 'source': '..\\\\data\\\\Pdf\\\\Digital Electronics Manual@StudentCopy.pdf', 'total_pages': 64, 'page': 59, 'page_label': '60', 'source_file': 'Digital Electronics Manual@StudentCopy.pdf', 'file_type': 'pdf'}, page_content='Dept. of Electronics & Communication \\nEngineering \\n   \\n \\n \\nTRUTH TABLE: \\nAfter \\npulses \\nCount \\n𝐐𝟐 𝐐𝟏 \\n0 0 0 \\n1 0 1 \\n2 1 0 \\n3 1 1 \\n \\n(II) Asynchronous 2-bit DOWN counter: \\nBlock Diagram (with IC 7476 pin numbers) \\n \\n \\nProcedure to connect the pins of IC 7476 for Asynchronous 2-bit UP counter: \\n \\nPin 1 \\uf0e0 Connect to manual pulse \\nPin 2, Pin 3, Pin 4, Pin 5, Pin 7, Pin 8, Pin 9, Pin 12, and Pin 16 \\uf0e0 Connect  \\nwith +5V power supply \\nPin 11 and Pin 15 \\uf0e0 Connect with output lines \\nPin 14 and Pin 6 \\uf0e0 Make shorted for next stage clock pulse \\nPin 13 \\uf0e0 Connect with GND (0V)'),\n",
       " Document(metadata={'producer': 'iLovePDF', 'creator': 'PyPDF', 'creationdate': '', 'moddate': '2023-04-04T09:30:38+00:00', 'source': '..\\\\data\\\\Pdf\\\\Digital Electronics Manual@StudentCopy.pdf', 'total_pages': 64, 'page': 60, 'page_label': '61', 'source_file': 'Digital Electronics Manual@StudentCopy.pdf', 'file_type': 'pdf'}, page_content='Dept. of Electronics & Communication \\nEngineering \\n   \\n \\n \\nTRUTH TABLE: \\nAfter \\npulses \\nCount \\n𝐐𝟐 𝐐𝟏 \\n0 0 0 \\n3 1 1 \\n2 1 0 \\n1 0 1 \\n \\n(III) Synchronous 2-bit UP counter: \\n \\nState Diagram: \\n \\n \\n \\n \\nProcedure to connect the pins of IC 7476 for Synchronous 2-bit UP counter: \\n \\nPin 1 and Pin 6 \\uf0e0 Connect to manual pulse \\nPin 2, Pin 3, Pin 4, Pin 5, Pin 7, Pin 8, and Pin 16 \\uf0e0 Connect with +5V \\npower supply \\nPin 9, Pin 12, and Pin 15 \\uf0e0 Make shorted for next stage input signals \\nPin 11 and Pin 15 \\uf0e0 Connect with output lines \\nPin 13 \\uf0e0 Connect with GND (0V) \\nExcitation Table: \\nPresent State Next State Excitation Inputs \\n𝐐𝟐 𝐐𝟏 𝐐𝟐 𝐐𝟏 𝐉𝟐 𝐊𝟐 𝐉𝟏 𝐊𝟏 \\n0 0 0 1 0 X 1 X \\n0 1 1 0 1 X X 1 \\n1 0 1 1 X 0 1 X \\n1 1 0 0 X 1 X 1'),\n",
       " Document(metadata={'producer': 'iLovePDF', 'creator': 'PyPDF', 'creationdate': '', 'moddate': '2023-04-04T09:30:38+00:00', 'source': '..\\\\data\\\\Pdf\\\\Digital Electronics Manual@StudentCopy.pdf', 'total_pages': 64, 'page': 61, 'page_label': '62', 'source_file': 'Digital Electronics Manual@StudentCopy.pdf', 'file_type': 'pdf'}, page_content='Dept. of Electronics & Communication \\nEngineering \\n   \\n \\n \\nBlock Diagram (with IC 7476 pin numbers) \\n \\n(IV) Synchronous 2-bit DOWN counter: \\n \\nState Diagram: \\n \\n \\n \\n \\nProcedure to connect the pins of IC 7476  for Synchronous 2-bit DOWN \\ncounter: \\n \\nPin 1 and Pin 6 \\uf0e0 Connect to manual pulse \\nPin 2, Pin 3, Pin 4, Pin 5, Pin 7, Pin 8, and Pin 16 \\uf0e0 Connect with +5V  \\npower supply \\nPin 9, Pin 12, and Pin 14 \\uf0e0 Make shorted for next stage input signals \\nPin 11 and Pin 15 \\uf0e0 Connect with output lines \\nPin 13 \\uf0e0 Connect with GND (0V)'),\n",
       " Document(metadata={'producer': 'iLovePDF', 'creator': 'PyPDF', 'creationdate': '', 'moddate': '2023-04-04T09:30:38+00:00', 'source': '..\\\\data\\\\Pdf\\\\Digital Electronics Manual@StudentCopy.pdf', 'total_pages': 64, 'page': 62, 'page_label': '63', 'source_file': 'Digital Electronics Manual@StudentCopy.pdf', 'file_type': 'pdf'}, page_content='Dept. of Electronics & Communication \\nEngineering \\n   \\n \\n \\nExcitation Table: \\n \\nPresent State Next State Excitation Inputs \\n𝐐𝟐 𝐐𝟏 𝐐𝟐 𝐐𝟏 𝐉𝟐 𝐊𝟐 𝐉𝟏 𝐊𝟏 \\n0 0 1 1 1 X 1 X \\n1 1 1 0 X 0 X 1 \\n1 0 0 1 X 1 1 X \\n0 1 0 0 0 X X 1 \\n \\nBlock Diagram (with IC 7476 pin numbers) \\n \\n \\n \\nPIN CONFIGURATION OF IC 7476 (MASTER SLAVE DUAL J -K FLIP -\\nFLOP):'),\n",
       " Document(metadata={'producer': 'iLovePDF', 'creator': 'PyPDF', 'creationdate': '', 'moddate': '2023-04-04T09:30:38+00:00', 'source': '..\\\\data\\\\Pdf\\\\Digital Electronics Manual@StudentCopy.pdf', 'total_pages': 64, 'page': 63, 'page_label': '64', 'source_file': 'Digital Electronics Manual@StudentCopy.pdf', 'file_type': 'pdf'}, page_content='Dept. of Electronics & Communication \\nEngineering \\n   \\n \\n \\nEXERCISES: \\n1. Implement a circuit using IC-7476 that counts 0 \\uf0e0 1 \\uf0e0 2 \\uf0e0 3 \\uf0e0 0 when \\nenable input will apply simultaneously to flip-flop(s). \\n2. Implement a circuit using IC -7476 that counts 0 0 \\uf0e0 11 \\uf0e0 10 \\uf0e0 01 \\uf0e0 00 \\nwhen enable input will apply simultaneously to flip-flop(s). \\n3. Implement a circuit using IC -7476 that counts 0 0 \\uf0e0 01 \\uf0e0 10 \\uf0e0 11 \\uf0e0 00 \\nwhen enable input will not apply at the same time to flip-flop(s). \\n4. Implement a circuit using IC -7476 that counts 0 \\uf0e0 3 \\uf0e0 2 \\uf0e0 1 \\uf0e0 0 when \\nenable input will not apply at the same time to flip-flop(s). \\n \\n \\n \\nCONCLUSION:')]"
      ]
     },
     "execution_count": 11,
     "metadata": {},
     "output_type": "execute_result"
    }
   ],
   "source": [
    "chunks"
   ]
  },
  {
   "cell_type": "code",
   "execution_count": 12,
   "id": "483b1460",
   "metadata": {},
   "outputs": [
    {
     "name": "stdout",
     "output_type": "stream",
     "text": [
      "Generating Embeddings for 75 texts...\n"
     ]
    },
    {
     "name": "stderr",
     "output_type": "stream",
     "text": [
      "Batches: 100%|██████████| 3/3 [00:01<00:00,  2.16it/s]"
     ]
    },
    {
     "name": "stdout",
     "output_type": "stream",
     "text": [
      "Generating Embeddings with Shape: (75, 384)\n",
      "Adding 75 documents to Vectore Store...\n",
      "Sucessfully added 75 documents to Vector Store\n",
      "Total Documents in Collection: 150\n"
     ]
    },
    {
     "name": "stderr",
     "output_type": "stream",
     "text": [
      "\n"
     ]
    }
   ],
   "source": [
    "# Convert the text to embeddings\n",
    "texts = [doc.page_content for doc in chunks]\n",
    "texts\n",
    "\n",
    "# Generate the embeddings\n",
    "embeddings = embedding_manager.generate_embeddings(texts)\n",
    "\n",
    "# Store in the VectorDB\n",
    "vector_store.add_documents(chunks,embeddings)\n"
   ]
  },
  {
   "cell_type": "markdown",
   "id": "f3bd81de",
   "metadata": {},
   "source": [
    "### Retriever Pipeline From VectorStore"
   ]
  },
  {
   "cell_type": "code",
   "execution_count": 13,
   "id": "f001e9a5",
   "metadata": {},
   "outputs": [],
   "source": [
    "class RAGRetriever:\n",
    "\n",
    "    def __init__(self, vector_store: VectorStore, embedding_manager: EmbeddingManager):\n",
    "\n",
    "        self.vector_store = vector_store\n",
    "        self.embedding_manager = embedding_manager\n",
    "\n",
    "    def retrieve(self, query: str, top_k: int = 5, score_threshold: float = 0.0) -> List[Dict[str, Any]]:\n",
    "\n",
    "        \"\"\"\n",
    "        Args:\n",
    "            query\n",
    "            top_k = No. of top results to return\n",
    "            score_threshold = Min. similarity score threshold\n",
    "\n",
    "        Returns:\n",
    "            List of dictionaries containing retrieved documents and metadata\n",
    "        \"\"\"\n",
    "        print(f\"Retrieving documents for query: '{query}'\")\n",
    "        print(f\"Top k: {top_k}, Score Threshold: {score_threshold}\")\n",
    "\n",
    "        query_embedding = self.embedding_manager.generate_embeddings([query])[0]\n",
    "\n",
    "        try:\n",
    "            results = self.vector_store.collection.query(\n",
    "                query_embeddings=[query_embedding.tolist()],\n",
    "                n_results=top_k\n",
    "            )\n",
    "\n",
    "            # Process Results\n",
    "\n",
    "            retrieved_docs = []\n",
    "\n",
    "            if results['documents'] and results['documents'][0]:\n",
    "                documents = results['documents'][0]\n",
    "                metadatas = results['metadatas'][0]\n",
    "                distances = results['distances'][0]\n",
    "                ids = results['ids'][0]\n",
    "\n",
    "                for i, (doc_id, document, metadata, distance) in enumerate(zip(ids, documents, metadatas, distances)):\n",
    "                    similarity_score = 1 - distance\n",
    "\n",
    "                    if similarity_score >= score_threshold:\n",
    "                        retrieved_docs.append({\n",
    "                            'id': doc_id,\n",
    "                            'content':document,\n",
    "                            'metadata':metadata,\n",
    "                            'similarity_score':similarity_score,\n",
    "                            'distance':distance,\n",
    "                            'rank':i+1\n",
    "                        })\n",
    "                print(f\"Retrieved {len(retrieved_docs)} documents (after filtering)\")\n",
    "            \n",
    "            else:\n",
    "                print(\"No Documents Found\")\n",
    "\n",
    "            return retrieved_docs\n",
    "        \n",
    "        except Exception as e:\n",
    "            print(f\"Error during retireval: {e}\")\n",
    "            return []\n",
    "\n",
    "rag_retriever = RAGRetriever(vector_store,embedding_manager)\n",
    "        "
   ]
  },
  {
   "cell_type": "code",
   "execution_count": 14,
   "id": "38112ad5",
   "metadata": {},
   "outputs": [
    {
     "data": {
      "text/plain": [
       "<__main__.RAGRetriever at 0x20f800f2120>"
      ]
     },
     "execution_count": 14,
     "metadata": {},
     "output_type": "execute_result"
    }
   ],
   "source": [
    "rag_retriever"
   ]
  },
  {
   "cell_type": "code",
   "execution_count": 15,
   "id": "893d12a0",
   "metadata": {},
   "outputs": [
    {
     "name": "stdout",
     "output_type": "stream",
     "text": [
      "Retrieving documents for query: 'What is a Full adder?'\n",
      "Top k: 5, Score Threshold: 0.0\n",
      "Generating Embeddings for 1 texts...\n"
     ]
    },
    {
     "name": "stderr",
     "output_type": "stream",
     "text": [
      "Batches: 100%|██████████| 1/1 [00:00<00:00, 34.97it/s]"
     ]
    },
    {
     "name": "stdout",
     "output_type": "stream",
     "text": [
      "Generating Embeddings with Shape: (1, 384)\n",
      "Retrieved 4 documents (after filtering)\n"
     ]
    },
    {
     "name": "stderr",
     "output_type": "stream",
     "text": [
      "\n"
     ]
    },
    {
     "data": {
      "text/plain": [
       "[{'id': 'doc_56b6235f_38',\n",
       "  'content': 'Dept. of Electronics & Communication \\nEngineering \\n   \\n \\n \\n \\nLOGIC DIAGRAMS: \\n \\nFull Adder: A Full Adder is a logical circuit that performs an addition operation on \\nthree binary digits. A Full Adder produces a Sum and Carry Values, which are both \\nbinary digits. It can be combined with other Full adders or work on its own. \\nSum = (A ⨁ B) ⨁ CIN  \\nCOUT = (AB) + CIN . (A ⨁ B) \\nTRUTH TABLE:',\n",
       "  'metadata': {'source': '..\\\\data\\\\Pdf\\\\Digital Electronics Manual@StudentCopy.pdf',\n",
       "   'file_type': 'pdf',\n",
       "   'creationdate': '',\n",
       "   'moddate': '2023-04-04T09:30:38+00:00',\n",
       "   'doc_index': 38,\n",
       "   'page': 33,\n",
       "   'source_file': 'Digital Electronics Manual@StudentCopy.pdf',\n",
       "   'total_pages': 64,\n",
       "   'producer': 'iLovePDF',\n",
       "   'content_length': 390,\n",
       "   'creator': 'PyPDF',\n",
       "   'page_label': '34'},\n",
       "  'similarity_score': 0.4758252501487732,\n",
       "  'distance': 0.5241747498512268,\n",
       "  'rank': 1},\n",
       " {'id': 'doc_b942aaf0_38',\n",
       "  'content': 'Dept. of Electronics & Communication \\nEngineering \\n   \\n \\n \\n \\nLOGIC DIAGRAMS: \\n \\nFull Adder: A Full Adder is a logical circuit that performs an addition operation on \\nthree binary digits. A Full Adder produces a Sum and Carry Values, which are both \\nbinary digits. It can be combined with other Full adders or work on its own. \\nSum = (A ⨁ B) ⨁ CIN  \\nCOUT = (AB) + CIN . (A ⨁ B) \\nTRUTH TABLE:',\n",
       "  'metadata': {'doc_index': 38,\n",
       "   'content_length': 390,\n",
       "   'producer': 'iLovePDF',\n",
       "   'source': '..\\\\data\\\\Pdf\\\\Digital Electronics Manual@StudentCopy.pdf',\n",
       "   'moddate': '2023-04-04T09:30:38+00:00',\n",
       "   'total_pages': 64,\n",
       "   'source_file': 'Digital Electronics Manual@StudentCopy.pdf',\n",
       "   'creator': 'PyPDF',\n",
       "   'page_label': '34',\n",
       "   'file_type': 'pdf',\n",
       "   'creationdate': '',\n",
       "   'page': 33},\n",
       "  'similarity_score': 0.4758252501487732,\n",
       "  'distance': 0.5241747498512268,\n",
       "  'rank': 2},\n",
       " {'id': 'doc_b040b49c_37',\n",
       "  'content': 'Dept. of Electronics & Communication \\nEngineering \\n   \\n \\n \\n \\nEXPERIMENT NO.5 \\n \\nNAME OF THE EXPERIMENT:  Study of Half Adder and Full Adder circuits. \\nAIM & OBJECTIVE:  To design a Half Adder and Full Adder circuits using basic \\ngates and to verify its truth table. \\nApparatus/ Components required: Digital trainer kit, IC- 7486, 7408, 7432 and \\nconnecting wires. \\nTHEORY: \\nIn digital electronics adder is a circuit that adds binary numbers. Adders can be \\nconstructed to carry out many numerical representations. \\nHalf Adder: A Half Adder is a logical circuit that performs an addition operation \\non two binary digits. The Half adder produces sum and carry values which are both \\nbinary digits. \\nSum = A ⨁ B \\nCOUT = A.B \\nTRUTH TABLE:',\n",
       "  'metadata': {'page_label': '33',\n",
       "   'moddate': '2023-04-04T09:30:38+00:00',\n",
       "   'source_file': 'Digital Electronics Manual@StudentCopy.pdf',\n",
       "   'creationdate': '',\n",
       "   'page': 32,\n",
       "   'producer': 'iLovePDF',\n",
       "   'doc_index': 37,\n",
       "   'file_type': 'pdf',\n",
       "   'creator': 'PyPDF',\n",
       "   'content_length': 734,\n",
       "   'total_pages': 64,\n",
       "   'source': '..\\\\data\\\\Pdf\\\\Digital Electronics Manual@StudentCopy.pdf'},\n",
       "  'similarity_score': 0.1372225284576416,\n",
       "  'distance': 0.8627774715423584,\n",
       "  'rank': 3},\n",
       " {'id': 'doc_b001ea7e_37',\n",
       "  'content': 'Dept. of Electronics & Communication \\nEngineering \\n   \\n \\n \\n \\nEXPERIMENT NO.5 \\n \\nNAME OF THE EXPERIMENT:  Study of Half Adder and Full Adder circuits. \\nAIM & OBJECTIVE:  To design a Half Adder and Full Adder circuits using basic \\ngates and to verify its truth table. \\nApparatus/ Components required: Digital trainer kit, IC- 7486, 7408, 7432 and \\nconnecting wires. \\nTHEORY: \\nIn digital electronics adder is a circuit that adds binary numbers. Adders can be \\nconstructed to carry out many numerical representations. \\nHalf Adder: A Half Adder is a logical circuit that performs an addition operation \\non two binary digits. The Half adder produces sum and carry values which are both \\nbinary digits. \\nSum = A ⨁ B \\nCOUT = A.B \\nTRUTH TABLE:',\n",
       "  'metadata': {'creationdate': '',\n",
       "   'page': 32,\n",
       "   'creator': 'PyPDF',\n",
       "   'total_pages': 64,\n",
       "   'producer': 'iLovePDF',\n",
       "   'content_length': 734,\n",
       "   'source': '..\\\\data\\\\Pdf\\\\Digital Electronics Manual@StudentCopy.pdf',\n",
       "   'file_type': 'pdf',\n",
       "   'moddate': '2023-04-04T09:30:38+00:00',\n",
       "   'source_file': 'Digital Electronics Manual@StudentCopy.pdf',\n",
       "   'doc_index': 37,\n",
       "   'page_label': '33'},\n",
       "  'similarity_score': 0.1372225284576416,\n",
       "  'distance': 0.8627774715423584,\n",
       "  'rank': 4}]"
      ]
     },
     "execution_count": 15,
     "metadata": {},
     "output_type": "execute_result"
    }
   ],
   "source": [
    "rag_retriever.retrieve(\"What is a Full adder?\")"
   ]
  },
  {
   "cell_type": "markdown",
   "id": "417faf1c",
   "metadata": {},
   "source": [
    "### Integration VectorDB Context Pipeline With LLM Output"
   ]
  },
  {
   "cell_type": "code",
   "execution_count": null,
   "id": "90c0539a",
   "metadata": {},
   "outputs": [],
   "source": [
    "# Simple RAG Pipeline with OpenAI LLM\n",
    "from langchain_groq import ChatGroq\n",
    "import os\n",
    "from dotenv import load_dotenv\n",
    "load_dotenv()\n",
    "\n",
    "api_key = os.getenv('GROQ_API_KEY')\n",
    "if not api_key:\n",
    "    raise RuntimeError('Missing API_KEY')\n",
    "\n",
    "groq_api_key = api_key\n",
    "\n",
    "llm = ChatGroq(groq_api_key=groq_api_key, model_name=\"llama-3.1-8b-instant\", temperature=0.1, max_tokens=1024)\n",
    "\n",
    "# Simple RAG Function: Retrieve Context + Generate Response\n",
    "def rag_simple(query, retriever,llm,top_k=3):\n",
    "    # Retrieve the context\n",
    "    results = retriever.retrieve(query,top_k=top_k)\n",
    "    context=\"\\n\\n\".join([doc['content'] for doc in results]) if results else \"\"\n",
    "\n",
    "    if not context:\n",
    "        return \"No relevant context found to answer the question.\"\n",
    "    \n",
    "    prompt=f\"\"\"Use the following context to answer the question concisely.\n",
    "        Context:\n",
    "        {context}\n",
    "\n",
    "        Question: {query}\n",
    "        \n",
    "        Answer:\"\"\"\n",
    "    \n",
    "    response=llm.invoke(prompt.format(context=context, query=query))\n",
    "    return response.content\n"
   ]
  },
  {
   "cell_type": "code",
   "execution_count": 47,
   "id": "9817462b",
   "metadata": {},
   "outputs": [
    {
     "name": "stdout",
     "output_type": "stream",
     "text": [
      "Retrieving documents for query: 'What is a full adder?'\n",
      "Top k: 3, Score Threshold: 0.0\n",
      "Generating Embeddings for 1 texts...\n"
     ]
    },
    {
     "name": "stderr",
     "output_type": "stream",
     "text": [
      "Batches: 100%|██████████| 1/1 [00:00<00:00, 67.96it/s]"
     ]
    },
    {
     "name": "stdout",
     "output_type": "stream",
     "text": [
      "Generating Embeddings with Shape: (1, 384)\n",
      "Retrieved 3 documents (after filtering)\n"
     ]
    },
    {
     "name": "stderr",
     "output_type": "stream",
     "text": [
      "\n"
     ]
    },
    {
     "name": "stdout",
     "output_type": "stream",
     "text": [
      "A Full Adder is a logical circuit that performs an addition operation on three binary digits, producing a Sum and Carry Values, which are both binary digits.\n"
     ]
    }
   ],
   "source": [
    "answer=rag_simple(\"What is a full adder?\",rag_retriever,llm)\n",
    "print(answer)"
   ]
  },
  {
   "cell_type": "markdown",
   "id": "9588cf25",
   "metadata": {},
   "source": [
    "### Enhanced RAG Pipeline Features"
   ]
  },
  {
   "cell_type": "code",
   "execution_count": 48,
   "id": "8e025305",
   "metadata": {},
   "outputs": [],
   "source": [
    "def rag_advance(query, retriever, llm, top_k=5, min_score=0.2, return_context=False):\n",
    "    \"\"\"\n",
    "    RAG Pipeline With Extra Features\n",
    "    Returns Answer, Sources, Confidence Score and Full Context.\n",
    "\n",
    "    \"\"\"\n",
    "\n",
    "    results = retriever.retrieve(query, top_k=top_k, score_threshold=min_score)\n",
    "\n",
    "    if not results:\n",
    "        return {'answer': 'No relevant context Found.', 'source':[], 'confidence':0.0, 'context':''}\n",
    "    \n",
    "    context=\"\\n\\n\".join([doc['content'] for doc in results])\n",
    "    sources = [{\n",
    "        'source': doc['metadata'].get('source_file', doc['metadata'].get('source', 'unknown')),\n",
    "        'page': doc['metadata'].get('page','unknown'),\n",
    "        'score': doc['similarity_score'],\n",
    "        'preview': doc['content'][:300] + '...'\n",
    "    } for doc in results]\n",
    "    confidence = max([doc['similarity_score'] for doc in results])\n",
    "\n",
    "    # Generate Answer\n",
    "    prompt = f\"\"\"Use the following context to answer the question concisely.\\nContext:\\n{context}\\n\\nQuestion: {query}\\n\\nAnswer:\"\"\"\n",
    "    response = llm.invoke([prompt.format(context=context, query=query)])\n",
    "\n",
    "    output = {\n",
    "        'answer': response.content,\n",
    "        'sources': sources,\n",
    "        'confidence': confidence\n",
    "    }\n",
    "    if return_context:\n",
    "        output['context'] = context\n",
    "\n",
    "    return output\n",
    "\n"
   ]
  },
  {
   "cell_type": "code",
   "execution_count": 51,
   "id": "0ada8e3a",
   "metadata": {},
   "outputs": [
    {
     "name": "stdout",
     "output_type": "stream",
     "text": [
      "Retrieving documents for query: 'How to convert grey code to binary code?'\n",
      "Top k: 3, Score Threshold: 0.1\n",
      "Generating Embeddings for 1 texts...\n"
     ]
    },
    {
     "name": "stderr",
     "output_type": "stream",
     "text": [
      "Batches: 100%|██████████| 1/1 [00:00<00:00, 22.36it/s]"
     ]
    },
    {
     "name": "stdout",
     "output_type": "stream",
     "text": [
      "Generating Embeddings with Shape: (1, 384)\n",
      "Retrieved 3 documents (after filtering)\n"
     ]
    },
    {
     "name": "stderr",
     "output_type": "stream",
     "text": [
      "\n"
     ]
    },
    {
     "name": "stdout",
     "output_type": "stream",
     "text": [
      "Answer: To convert Gray code to Binary code, follow these steps:\n",
      "\n",
      "(i) Record the most significant bit (MSB) of Gray code as MSB for Binary code.\n",
      "\n",
      "(ii) XOR the MSB of Binary code with the next position bit of Gray code and record the resultant bit.\n",
      "\n",
      "(iii) Continue the XOR for present Binary bit and next Gray code bit until the LSB is recorded for Binary code.\n",
      "\n",
      "Sources: [{'source': 'Digital Electronics Manual@StudentCopy.pdf', 'page': 28, 'score': 0.5033762753009796, 'preview': 'Dept. of Electronics & Communication \\nEngineering \\n   \\n \\n \\n \\nII. Gray to Binary Code Converter: \\nThe logical circuit which converts Gray code to equivalent Binary code is \\nknown as Gray to Binary code converter. If an ‘n’-bit Gray number is \\nrepresented by Gn, Gn−1, …, G1 and its equivalent Binary c...'}, {'source': 'Digital Electronics Manual@StudentCopy.pdf', 'page': 28, 'score': 0.5033762753009796, 'preview': 'Dept. of Electronics & Communication \\nEngineering \\n   \\n \\n \\n \\nII. Gray to Binary Code Converter: \\nThe logical circuit which converts Gray code to equivalent Binary code is \\nknown as Gray to Binary code converter. If an ‘n’-bit Gray number is \\nrepresented by Gn, Gn−1, …, G1 and its equivalent Binary c...'}, {'source': 'Digital Electronics Manual@StudentCopy.pdf', 'page': 26, 'score': 0.28862321376800537, 'preview': 'Dept. of Electronics & Communication \\nEngineering \\n   \\n \\n \\n \\nEXPERIMENT NO.4 \\n \\nNAME OF THE EXPERIMENT:  Binary to Gray and Gray to Binary Conversion. \\nAIM & OBJECTIVE:  To Verify The Truth Tables of Binary to Gray and Gray to \\nBinary Conversion. \\nApparatus/ Components required:  Digital trainer kit...'}]\n",
      "Confidence: 0.5033762753009796\n",
      "Context Preview: Dept. of Electronics & Communication \n",
      "Engineering \n",
      "   \n",
      " \n",
      " \n",
      " \n",
      "II. Gray to Binary Code Converter: \n",
      "The logical circuit which converts Gray code to equivalent Binary code is \n",
      "known as Gray to Binary code converter. If an ‘n’-bit Gray number is \n",
      "represented by Gn, Gn−1, …, G1 and its equivalent Binary c\n"
     ]
    }
   ],
   "source": [
    "result = rag_advance(\"How to convert grey code to binary code?\", rag_retriever, llm, top_k=3, min_score=0.1, return_context=True)\n",
    "\n",
    "print(f\"Answer: {result['answer']}\\n\")\n",
    "print(\"Sources:\", result['sources'])\n",
    "print(\"Confidence:\", result['confidence'])\n",
    "print(\"Context Preview:\", result['context'][:300])"
   ]
  }
 ],
 "metadata": {
  "kernelspec": {
   "display_name": ".venv",
   "language": "python",
   "name": "python3"
  },
  "language_info": {
   "codemirror_mode": {
    "name": "ipython",
    "version": 3
   },
   "file_extension": ".py",
   "mimetype": "text/x-python",
   "name": "python",
   "nbconvert_exporter": "python",
   "pygments_lexer": "ipython3",
   "version": "3.13.0"
  }
 },
 "nbformat": 4,
 "nbformat_minor": 5
}
